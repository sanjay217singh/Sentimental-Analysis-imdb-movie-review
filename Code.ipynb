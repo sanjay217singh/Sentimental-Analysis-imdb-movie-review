{
  "cells": [
    {
      "cell_type": "code",
      "execution_count": null,
      "metadata": {
        "id": "oFt35qs8ECAx"
      },
      "outputs": [],
      "source": [
        "import numpy as np\n",
        "import pandas as pd\n",
        "from sklearn.model_selection import train_test_split\n",
        "import matplotlib.pyplot as plt\n",
        "import seaborn as sns"
      ]
    },
    {
      "cell_type": "code",
      "execution_count": null,
      "metadata": {
        "id": "gry2CFKZELxi"
      },
      "outputs": [],
      "source": [
        "train_df = pd.read_csv('/content/neg+pos.csv')"
      ]
    },
    {
      "cell_type": "code",
      "execution_count": null,
      "metadata": {
        "colab": {
          "base_uri": "https://localhost:8080/"
        },
        "id": "U_vNRci7Eq6C",
        "outputId": "ba41c528-8748-4838-a3e4-b9c82b583a27"
      },
      "outputs": [
        {
          "output_type": "execute_result",
          "data": {
            "text/plain": [
              "(25000, 4)"
            ]
          },
          "metadata": {},
          "execution_count": 12
        }
      ],
      "source": [
        "train_df.shape"
      ]
    },
    {
      "cell_type": "code",
      "execution_count": null,
      "metadata": {
        "colab": {
          "base_uri": "https://localhost:8080/"
        },
        "id": "WLIpPhcgE66C",
        "outputId": "9846ec79-44df-4c65-9520-8c3bb2f6aa19"
      },
      "outputs": [
        {
          "output_type": "stream",
          "name": "stdout",
          "text": [
            "Train set distribution:\n",
            "class\n",
            "1    0.5\n",
            "0    0.5\n",
            "Name: proportion, dtype: float64\n",
            "\n",
            "Validation set distribution:\n",
            "class\n",
            "1    0.5\n",
            "0    0.5\n",
            "Name: proportion, dtype: float64\n",
            "\n",
            "Test set distribution:\n",
            "class\n",
            "1    0.5\n",
            "0    0.5\n",
            "Name: proportion, dtype: float64\n"
          ]
        }
      ],
      "source": [
        "import pandas as pd\n",
        "from sklearn.model_selection import train_test_split\n",
        "\n",
        "# Load data\n",
        "df = pd.read_csv('/content/neg+pos.csv')  # Replace with your CSV path\n",
        "\n",
        "# Create binary classes: 0 (≤4), 1 (≥7)\n",
        "df['class'] = df['rating'].apply(lambda x: 0 if x <= 4 else 1)\n",
        "\n",
        "# First split: train (80%) vs temp (20%)\n",
        "train_df, temp_df = train_test_split(\n",
        "    df,\n",
        "    test_size=0.2,  # 20% for test+validation\n",
        "    stratify=df['class'],\n",
        "    random_state=42\n",
        ")\n",
        "\n",
        "# Second split: validation (10%) vs test (10%) from temp (total 20%)\n",
        "val_df, test_df = train_test_split(\n",
        "    temp_df,\n",
        "    test_size=0.5,  # Split temp into equal halves (10% each)\n",
        "    stratify=temp_df['class'],\n",
        "    random_state=42\n",
        ")\n",
        "\n",
        "# Remove temporary class column if needed\n",
        "df = df.drop(columns=['class'])\n",
        "\n",
        "# Check class distribution in splits\n",
        "print(\"Train set distribution:\")\n",
        "print(train_df['class'].value_counts(normalize=True))\n",
        "print(\"\\nValidation set distribution:\")\n",
        "print(val_df['class'].value_counts(normalize=True))\n",
        "print(\"\\nTest set distribution:\")\n",
        "print(test_df['class'].value_counts(normalize=True))\n",
        "\n",
        "# Optional: Save splits to CSV\n",
        "train_df.to_csv('train.csv', index=False)\n",
        "val_df.to_csv('validation.csv', index=False)\n",
        "test_df.to_csv('test.csv', index=False)"
      ]
    },
    {
      "cell_type": "code",
      "source": [
        "# label counts\n",
        "def get_label_counts(df, dataset_name):\n",
        "    label_counts = df['label'].value_counts()\n",
        "    count_0 = label_counts.get(0, 0)  # label 0 as Negative\n",
        "    count_1 = label_counts.get(1, 0)  # label 1 as Positive\n",
        "    total_count = len(df)\n",
        "\n",
        "    print(f\"{dataset_name} Dataset:\")\n",
        "    print(f\"Count of 0: {count_0}\")\n",
        "    print(f\"Count of 1: {count_1}\")\n",
        "    print(f\"Total Count: {total_count}\\n\")\n",
        "\n",
        "# Getting label counts for all datasets\n",
        "get_label_counts(train_df, \"Training\")\n",
        "get_label_counts(val_df, \"Validation\")\n",
        "get_label_counts(test_df, \"Testing\")"
      ],
      "metadata": {
        "colab": {
          "base_uri": "https://localhost:8080/"
        },
        "id": "LNKbleh5CGMx",
        "outputId": "242c077b-d5c1-409c-83a2-cc7dfd2d861a"
      },
      "execution_count": null,
      "outputs": [
        {
          "output_type": "stream",
          "name": "stdout",
          "text": [
            "Training Dataset:\n",
            "Count of 0: 10000\n",
            "Count of 1: 10000\n",
            "Total Count: 20000\n",
            "\n",
            "Validation Dataset:\n",
            "Count of 0: 1250\n",
            "Count of 1: 1250\n",
            "Total Count: 2500\n",
            "\n",
            "Testing Dataset:\n",
            "Count of 0: 1250\n",
            "Count of 1: 1250\n",
            "Total Count: 2500\n",
            "\n"
          ]
        }
      ]
    },
    {
      "cell_type": "code",
      "source": [
        "train_df.tail()"
      ],
      "metadata": {
        "colab": {
          "base_uri": "https://localhost:8080/",
          "height": 204
        },
        "id": "3P8uIeLTC-B-",
        "outputId": "d329a8a1-f0de-4d4f-c575-607bd7882ec4"
      },
      "execution_count": null,
      "outputs": [
        {
          "output_type": "execute_result",
          "data": {
            "text/plain": [
              "       sl_no                                               text  rating  \\\n",
              "10080   7823  An overlong, but compelling retelling of the f...       7   \n",
              "7973    5927  Stephen King movies are a funny thing with me....       9   \n",
              "22968   8172  A cannibalistic backwoods killer is on the pro...       1   \n",
              "17663   3398  It seems that the intention of the film was to...       3   \n",
              "10894   8556  This movie is plain fun.I has nothing to do wi...       7   \n",
              "\n",
              "       label  class  \n",
              "10080      1      1  \n",
              "7973       1      1  \n",
              "22968      0      0  \n",
              "17663      0      0  \n",
              "10894      1      1  "
            ],
            "text/html": [
              "\n",
              "  <div id=\"df-dafb75c0-dc3d-48cd-a3d7-e9cdab3f1f8c\" class=\"colab-df-container\">\n",
              "    <div>\n",
              "<style scoped>\n",
              "    .dataframe tbody tr th:only-of-type {\n",
              "        vertical-align: middle;\n",
              "    }\n",
              "\n",
              "    .dataframe tbody tr th {\n",
              "        vertical-align: top;\n",
              "    }\n",
              "\n",
              "    .dataframe thead th {\n",
              "        text-align: right;\n",
              "    }\n",
              "</style>\n",
              "<table border=\"1\" class=\"dataframe\">\n",
              "  <thead>\n",
              "    <tr style=\"text-align: right;\">\n",
              "      <th></th>\n",
              "      <th>sl_no</th>\n",
              "      <th>text</th>\n",
              "      <th>rating</th>\n",
              "      <th>label</th>\n",
              "      <th>class</th>\n",
              "    </tr>\n",
              "  </thead>\n",
              "  <tbody>\n",
              "    <tr>\n",
              "      <th>10080</th>\n",
              "      <td>7823</td>\n",
              "      <td>An overlong, but compelling retelling of the f...</td>\n",
              "      <td>7</td>\n",
              "      <td>1</td>\n",
              "      <td>1</td>\n",
              "    </tr>\n",
              "    <tr>\n",
              "      <th>7973</th>\n",
              "      <td>5927</td>\n",
              "      <td>Stephen King movies are a funny thing with me....</td>\n",
              "      <td>9</td>\n",
              "      <td>1</td>\n",
              "      <td>1</td>\n",
              "    </tr>\n",
              "    <tr>\n",
              "      <th>22968</th>\n",
              "      <td>8172</td>\n",
              "      <td>A cannibalistic backwoods killer is on the pro...</td>\n",
              "      <td>1</td>\n",
              "      <td>0</td>\n",
              "      <td>0</td>\n",
              "    </tr>\n",
              "    <tr>\n",
              "      <th>17663</th>\n",
              "      <td>3398</td>\n",
              "      <td>It seems that the intention of the film was to...</td>\n",
              "      <td>3</td>\n",
              "      <td>0</td>\n",
              "      <td>0</td>\n",
              "    </tr>\n",
              "    <tr>\n",
              "      <th>10894</th>\n",
              "      <td>8556</td>\n",
              "      <td>This movie is plain fun.I has nothing to do wi...</td>\n",
              "      <td>7</td>\n",
              "      <td>1</td>\n",
              "      <td>1</td>\n",
              "    </tr>\n",
              "  </tbody>\n",
              "</table>\n",
              "</div>\n",
              "    <div class=\"colab-df-buttons\">\n",
              "\n",
              "  <div class=\"colab-df-container\">\n",
              "    <button class=\"colab-df-convert\" onclick=\"convertToInteractive('df-dafb75c0-dc3d-48cd-a3d7-e9cdab3f1f8c')\"\n",
              "            title=\"Convert this dataframe to an interactive table.\"\n",
              "            style=\"display:none;\">\n",
              "\n",
              "  <svg xmlns=\"http://www.w3.org/2000/svg\" height=\"24px\" viewBox=\"0 -960 960 960\">\n",
              "    <path d=\"M120-120v-720h720v720H120Zm60-500h600v-160H180v160Zm220 220h160v-160H400v160Zm0 220h160v-160H400v160ZM180-400h160v-160H180v160Zm440 0h160v-160H620v160ZM180-180h160v-160H180v160Zm440 0h160v-160H620v160Z\"/>\n",
              "  </svg>\n",
              "    </button>\n",
              "\n",
              "  <style>\n",
              "    .colab-df-container {\n",
              "      display:flex;\n",
              "      gap: 12px;\n",
              "    }\n",
              "\n",
              "    .colab-df-convert {\n",
              "      background-color: #E8F0FE;\n",
              "      border: none;\n",
              "      border-radius: 50%;\n",
              "      cursor: pointer;\n",
              "      display: none;\n",
              "      fill: #1967D2;\n",
              "      height: 32px;\n",
              "      padding: 0 0 0 0;\n",
              "      width: 32px;\n",
              "    }\n",
              "\n",
              "    .colab-df-convert:hover {\n",
              "      background-color: #E2EBFA;\n",
              "      box-shadow: 0px 1px 2px rgba(60, 64, 67, 0.3), 0px 1px 3px 1px rgba(60, 64, 67, 0.15);\n",
              "      fill: #174EA6;\n",
              "    }\n",
              "\n",
              "    .colab-df-buttons div {\n",
              "      margin-bottom: 4px;\n",
              "    }\n",
              "\n",
              "    [theme=dark] .colab-df-convert {\n",
              "      background-color: #3B4455;\n",
              "      fill: #D2E3FC;\n",
              "    }\n",
              "\n",
              "    [theme=dark] .colab-df-convert:hover {\n",
              "      background-color: #434B5C;\n",
              "      box-shadow: 0px 1px 3px 1px rgba(0, 0, 0, 0.15);\n",
              "      filter: drop-shadow(0px 1px 2px rgba(0, 0, 0, 0.3));\n",
              "      fill: #FFFFFF;\n",
              "    }\n",
              "  </style>\n",
              "\n",
              "    <script>\n",
              "      const buttonEl =\n",
              "        document.querySelector('#df-dafb75c0-dc3d-48cd-a3d7-e9cdab3f1f8c button.colab-df-convert');\n",
              "      buttonEl.style.display =\n",
              "        google.colab.kernel.accessAllowed ? 'block' : 'none';\n",
              "\n",
              "      async function convertToInteractive(key) {\n",
              "        const element = document.querySelector('#df-dafb75c0-dc3d-48cd-a3d7-e9cdab3f1f8c');\n",
              "        const dataTable =\n",
              "          await google.colab.kernel.invokeFunction('convertToInteractive',\n",
              "                                                    [key], {});\n",
              "        if (!dataTable) return;\n",
              "\n",
              "        const docLinkHtml = 'Like what you see? Visit the ' +\n",
              "          '<a target=\"_blank\" href=https://colab.research.google.com/notebooks/data_table.ipynb>data table notebook</a>'\n",
              "          + ' to learn more about interactive tables.';\n",
              "        element.innerHTML = '';\n",
              "        dataTable['output_type'] = 'display_data';\n",
              "        await google.colab.output.renderOutput(dataTable, element);\n",
              "        const docLink = document.createElement('div');\n",
              "        docLink.innerHTML = docLinkHtml;\n",
              "        element.appendChild(docLink);\n",
              "      }\n",
              "    </script>\n",
              "  </div>\n",
              "\n",
              "\n",
              "<div id=\"df-500c0e6f-dfae-4660-b9bd-d8cc421c96c7\">\n",
              "  <button class=\"colab-df-quickchart\" onclick=\"quickchart('df-500c0e6f-dfae-4660-b9bd-d8cc421c96c7')\"\n",
              "            title=\"Suggest charts\"\n",
              "            style=\"display:none;\">\n",
              "\n",
              "<svg xmlns=\"http://www.w3.org/2000/svg\" height=\"24px\"viewBox=\"0 0 24 24\"\n",
              "     width=\"24px\">\n",
              "    <g>\n",
              "        <path d=\"M19 3H5c-1.1 0-2 .9-2 2v14c0 1.1.9 2 2 2h14c1.1 0 2-.9 2-2V5c0-1.1-.9-2-2-2zM9 17H7v-7h2v7zm4 0h-2V7h2v10zm4 0h-2v-4h2v4z\"/>\n",
              "    </g>\n",
              "</svg>\n",
              "  </button>\n",
              "\n",
              "<style>\n",
              "  .colab-df-quickchart {\n",
              "      --bg-color: #E8F0FE;\n",
              "      --fill-color: #1967D2;\n",
              "      --hover-bg-color: #E2EBFA;\n",
              "      --hover-fill-color: #174EA6;\n",
              "      --disabled-fill-color: #AAA;\n",
              "      --disabled-bg-color: #DDD;\n",
              "  }\n",
              "\n",
              "  [theme=dark] .colab-df-quickchart {\n",
              "      --bg-color: #3B4455;\n",
              "      --fill-color: #D2E3FC;\n",
              "      --hover-bg-color: #434B5C;\n",
              "      --hover-fill-color: #FFFFFF;\n",
              "      --disabled-bg-color: #3B4455;\n",
              "      --disabled-fill-color: #666;\n",
              "  }\n",
              "\n",
              "  .colab-df-quickchart {\n",
              "    background-color: var(--bg-color);\n",
              "    border: none;\n",
              "    border-radius: 50%;\n",
              "    cursor: pointer;\n",
              "    display: none;\n",
              "    fill: var(--fill-color);\n",
              "    height: 32px;\n",
              "    padding: 0;\n",
              "    width: 32px;\n",
              "  }\n",
              "\n",
              "  .colab-df-quickchart:hover {\n",
              "    background-color: var(--hover-bg-color);\n",
              "    box-shadow: 0 1px 2px rgba(60, 64, 67, 0.3), 0 1px 3px 1px rgba(60, 64, 67, 0.15);\n",
              "    fill: var(--button-hover-fill-color);\n",
              "  }\n",
              "\n",
              "  .colab-df-quickchart-complete:disabled,\n",
              "  .colab-df-quickchart-complete:disabled:hover {\n",
              "    background-color: var(--disabled-bg-color);\n",
              "    fill: var(--disabled-fill-color);\n",
              "    box-shadow: none;\n",
              "  }\n",
              "\n",
              "  .colab-df-spinner {\n",
              "    border: 2px solid var(--fill-color);\n",
              "    border-color: transparent;\n",
              "    border-bottom-color: var(--fill-color);\n",
              "    animation:\n",
              "      spin 1s steps(1) infinite;\n",
              "  }\n",
              "\n",
              "  @keyframes spin {\n",
              "    0% {\n",
              "      border-color: transparent;\n",
              "      border-bottom-color: var(--fill-color);\n",
              "      border-left-color: var(--fill-color);\n",
              "    }\n",
              "    20% {\n",
              "      border-color: transparent;\n",
              "      border-left-color: var(--fill-color);\n",
              "      border-top-color: var(--fill-color);\n",
              "    }\n",
              "    30% {\n",
              "      border-color: transparent;\n",
              "      border-left-color: var(--fill-color);\n",
              "      border-top-color: var(--fill-color);\n",
              "      border-right-color: var(--fill-color);\n",
              "    }\n",
              "    40% {\n",
              "      border-color: transparent;\n",
              "      border-right-color: var(--fill-color);\n",
              "      border-top-color: var(--fill-color);\n",
              "    }\n",
              "    60% {\n",
              "      border-color: transparent;\n",
              "      border-right-color: var(--fill-color);\n",
              "    }\n",
              "    80% {\n",
              "      border-color: transparent;\n",
              "      border-right-color: var(--fill-color);\n",
              "      border-bottom-color: var(--fill-color);\n",
              "    }\n",
              "    90% {\n",
              "      border-color: transparent;\n",
              "      border-bottom-color: var(--fill-color);\n",
              "    }\n",
              "  }\n",
              "</style>\n",
              "\n",
              "  <script>\n",
              "    async function quickchart(key) {\n",
              "      const quickchartButtonEl =\n",
              "        document.querySelector('#' + key + ' button');\n",
              "      quickchartButtonEl.disabled = true;  // To prevent multiple clicks.\n",
              "      quickchartButtonEl.classList.add('colab-df-spinner');\n",
              "      try {\n",
              "        const charts = await google.colab.kernel.invokeFunction(\n",
              "            'suggestCharts', [key], {});\n",
              "      } catch (error) {\n",
              "        console.error('Error during call to suggestCharts:', error);\n",
              "      }\n",
              "      quickchartButtonEl.classList.remove('colab-df-spinner');\n",
              "      quickchartButtonEl.classList.add('colab-df-quickchart-complete');\n",
              "    }\n",
              "    (() => {\n",
              "      let quickchartButtonEl =\n",
              "        document.querySelector('#df-500c0e6f-dfae-4660-b9bd-d8cc421c96c7 button');\n",
              "      quickchartButtonEl.style.display =\n",
              "        google.colab.kernel.accessAllowed ? 'block' : 'none';\n",
              "    })();\n",
              "  </script>\n",
              "</div>\n",
              "\n",
              "    </div>\n",
              "  </div>\n"
            ],
            "application/vnd.google.colaboratory.intrinsic+json": {
              "type": "dataframe",
              "summary": "{\n  \"name\": \"train_df\",\n  \"rows\": 5,\n  \"fields\": [\n    {\n      \"column\": \"sl_no\",\n      \"properties\": {\n        \"dtype\": \"number\",\n        \"std\": 2141,\n        \"min\": 3398,\n        \"max\": 8556,\n        \"num_unique_values\": 5,\n        \"samples\": [\n          5927,\n          8556,\n          8172\n        ],\n        \"semantic_type\": \"\",\n        \"description\": \"\"\n      }\n    },\n    {\n      \"column\": \"text\",\n      \"properties\": {\n        \"dtype\": \"string\",\n        \"num_unique_values\": 5,\n        \"samples\": [\n          \"Stephen King movies are a funny thing with me. I either really love them or I loathe them. Some of the fancier productions (such as Desperation and Storm of the Century) I didn't enjoy. Some of the smaller ones, I really loved. Sleepwalkers is one that I really do enjoy and watch it regularly.<br /><br />The story revolves around Charles Brady and his mother Mary. They are Sleepwalkers, shape shifting creatures who although human like in appearance shift into a feline like creature. They are immune to the scratch of cats and whenever they move to a new town, lay out traps to catch and kill the animals. When they move to their latest town, they need to seek out a virgin and when Charles finds one, he actually falls for her,but his mother needs to feed from her to keep up her strength. The story revolves around what will happen with the girl. Will Charles spare her or use her to save his mother.<br /><br />Although this story has overtones of incest which some may find unappealing it does actually play a part in the story and is therefore not just plonked in the movie for scandal's sake. Like most Stephen King stories it's based in a small town with lots of interesting characters. The acting isn't the best, nor are the special effects, however, somehow, the whole thing tends to 'gel' and is very watchable and enjoyable adaption.<br /><br />For UK readers: This production has most recently been shown on BBC1, Sci-Fi and Sky Thriller/Horror channels.\",\n          \"This movie is plain fun.I has nothing to do with the original America Pie, but it is fun to watch.<br /><br />Another try, but better than Band camp and The naked mile, at least funnier.<br /><br />Just after first five minutes i was laughing my ass out, so I decided to call my friend and we would watch it together.We had a few beers and we had fun.<br /><br />You will not find any deep message in this movie, but it's worth watching.<br /><br />So, lay back and just enjoy.\",\n          \"A cannibalistic backwoods killer is on the prowl and two bickering couples might be his next source of protein in this bargain basement Friday the 13th-clone cheapie. There s literally nothing of interest to see in this one, the killings are surprisingly sparse and when they do happen, completely amateurish. It also adds ghosts into the mix for no reason what so ever. I felt drained after watching it as if my brain was liquefying and draining out my nose. And it remains without a doubt Donald Jones' worst movie. If you're thinking of renting it because of Code Red's snazzy new DVD re-release Don't bother<br /><br />My Grade: F\"\n        ],\n        \"semantic_type\": \"\",\n        \"description\": \"\"\n      }\n    },\n    {\n      \"column\": \"rating\",\n      \"properties\": {\n        \"dtype\": \"number\",\n        \"std\": 3,\n        \"min\": 1,\n        \"max\": 9,\n        \"num_unique_values\": 4,\n        \"samples\": [\n          9,\n          3,\n          7\n        ],\n        \"semantic_type\": \"\",\n        \"description\": \"\"\n      }\n    },\n    {\n      \"column\": \"label\",\n      \"properties\": {\n        \"dtype\": \"number\",\n        \"std\": 0,\n        \"min\": 0,\n        \"max\": 1,\n        \"num_unique_values\": 2,\n        \"samples\": [\n          0,\n          1\n        ],\n        \"semantic_type\": \"\",\n        \"description\": \"\"\n      }\n    },\n    {\n      \"column\": \"class\",\n      \"properties\": {\n        \"dtype\": \"number\",\n        \"std\": 0,\n        \"min\": 0,\n        \"max\": 1,\n        \"num_unique_values\": 2,\n        \"samples\": [\n          0,\n          1\n        ],\n        \"semantic_type\": \"\",\n        \"description\": \"\"\n      }\n    }\n  ]\n}"
            }
          },
          "metadata": {},
          "execution_count": 15
        }
      ]
    },
    {
      "cell_type": "code",
      "execution_count": null,
      "metadata": {
        "id": "Bq40nOKgiwFk"
      },
      "outputs": [],
      "source": [
        "column = 'label'"
      ]
    },
    {
      "cell_type": "code",
      "execution_count": null,
      "metadata": {
        "colab": {
          "base_uri": "https://localhost:8080/"
        },
        "id": "s1FM5HaCi3Zh",
        "outputId": "bd0c1b43-7af0-4b77-c3a6-66b6434d9cbb"
      },
      "outputs": [
        {
          "output_type": "execute_result",
          "data": {
            "text/plain": [
              "(array([1, 0]), array([1, 0]), array([1, 0]))"
            ]
          },
          "metadata": {},
          "execution_count": 17
        }
      ],
      "source": [
        "train_df[column].unique(), val_df[column].unique(), test_df[column].unique()"
      ]
    },
    {
      "cell_type": "code",
      "execution_count": null,
      "metadata": {
        "colab": {
          "base_uri": "https://localhost:8080/"
        },
        "id": "75wafV26i-xQ",
        "outputId": "750b693a-6c08-413a-f0d7-bf98546c8f0d"
      },
      "outputs": [
        {
          "output_type": "execute_result",
          "data": {
            "text/plain": [
              "(sl_no     0\n",
              " text      0\n",
              " rating    0\n",
              " label     0\n",
              " class     0\n",
              " dtype: int64,\n",
              " sl_no     0\n",
              " text      0\n",
              " rating    0\n",
              " label     0\n",
              " class     0\n",
              " dtype: int64,\n",
              " sl_no     0\n",
              " text      0\n",
              " rating    0\n",
              " label     0\n",
              " class     0\n",
              " dtype: int64)"
            ]
          },
          "metadata": {},
          "execution_count": 18
        }
      ],
      "source": [
        "train_df.isnull().sum(), val_df.isnull().sum(), test_df.isnull().sum()"
      ]
    },
    {
      "cell_type": "markdown",
      "metadata": {
        "id": "Dy5vAWROltdt"
      },
      "source": [
        "Text Preprocessing"
      ]
    },
    {
      "cell_type": "code",
      "execution_count": null,
      "metadata": {
        "id": "P-u0EQpbuVR9"
      },
      "outputs": [],
      "source": [
        "import nltk\n",
        "import re\n",
        "from tqdm import tqdm\n",
        "import string\n",
        "from collections import Counter\n",
        "from wordcloud import WordCloud\n",
        "from nltk.corpus import stopwords\n",
        "import torch\n",
        "import torch.nn as nn\n",
        "import torch.optim as optim"
      ]
    },
    {
      "cell_type": "code",
      "execution_count": null,
      "metadata": {
        "colab": {
          "base_uri": "https://localhost:8080/"
        },
        "id": "7unS2QFpujZQ",
        "outputId": "9f1ce695-010b-4bdf-f473-5529ff94924f"
      },
      "outputs": [
        {
          "output_type": "stream",
          "name": "stderr",
          "text": [
            "[nltk_data] Downloading package stopwords to /root/nltk_data...\n",
            "[nltk_data]   Unzipping corpora/stopwords.zip.\n"
          ]
        },
        {
          "output_type": "execute_result",
          "data": {
            "text/plain": [
              "True"
            ]
          },
          "metadata": {},
          "execution_count": 20
        }
      ],
      "source": [
        "nltk.download('stopwords')"
      ]
    },
    {
      "cell_type": "code",
      "execution_count": null,
      "metadata": {
        "id": "eqYoE9cZl0Dg"
      },
      "outputs": [],
      "source": [
        "STOPWORDS=set(stopwords.words('english'))"
      ]
    },
    {
      "cell_type": "code",
      "execution_count": null,
      "metadata": {
        "id": "ZgYj4WY7urZy"
      },
      "outputs": [],
      "source": [
        "def remove_url_and_email(string):\n",
        "    url_pattern = re.compile(r'https?://\\S+|www\\.\\S+')\n",
        "\n",
        "    email_pattern = re.compile(r'\\b[A-Za-z0-9._%+-]+@[A-Za-z0-9.-]+\\.[A-Za-z]{2,}\\b')\n",
        "\n",
        "    string = url_pattern.sub(r'', string)\n",
        "    string = email_pattern.sub(r'', string)\n",
        "\n",
        "    return string\n",
        "\n",
        "def remove_html(text):\n",
        "    html_pattern = re.compile('<.*?>')\n",
        "    return html_pattern.sub(r'',text)\n",
        "\n",
        "\n",
        "def text_preprocess(df):\n",
        "  df['cleaned_text'] = df['text'].apply(lambda x: \" \".join([word.lower() for word in x.split()])) # Lowercase removed\n",
        "  df['cleaned_text'] = df['cleaned_text'].apply(lambda x: remove_url_and_email(x)) #  URLs removed\n",
        "  df['cleaned_text'] = df['cleaned_text'].apply(lambda x: remove_html(x)) #  HTML tags removed\n",
        "  df['cleaned_text'] = df['cleaned_text'].apply(lambda x: \" \".join([word for word in x.split() if word not in STOPWORDS])) #  stopwords removed\n",
        "  df['cleaned_text'] = df['cleaned_text'].apply(lambda x: re.sub(r'[^\\w\\s]', ' ', x)) #  punctuation removed\n",
        "  df['cleaned_text'] = df['cleaned_text'].apply(lambda x: re.sub(r'\\d+', '', x)) #  digits removed\n",
        "  df['cleaned_text'] = df['cleaned_text'].apply(lambda x: re.sub(r'\\s+', ' ', x)) #  extra whitespace removed\n",
        "  df['cleaned_text'] = df['cleaned_text'].apply(lambda x: \" \".join([word for word in x.split() if len(word) > 2])) #  short words removed\n",
        "  df['cleaned_text'] = df['cleaned_text'].apply(lambda x: [word for word in x.split()]) # tokenize\n",
        "\n",
        "  return df"
      ]
    },
    {
      "cell_type": "code",
      "execution_count": null,
      "metadata": {
        "id": "gl3vKwAPu2Pb"
      },
      "outputs": [],
      "source": [
        "new_train_df = text_preprocess(train_df)\n",
        "new_val_df = text_preprocess(val_df)\n",
        "new_test_df = text_preprocess(test_df)"
      ]
    },
    {
      "cell_type": "code",
      "execution_count": null,
      "metadata": {
        "colab": {
          "base_uri": "https://localhost:8080/",
          "height": 204
        },
        "id": "aSvWn_MgvFBm",
        "outputId": "4d448ac5-8a38-4006-f649-da87e1520188"
      },
      "outputs": [
        {
          "output_type": "execute_result",
          "data": {
            "text/plain": [
              "       sl_no                                               text  rating  \\\n",
              "10080   7823  An overlong, but compelling retelling of the f...       7   \n",
              "7973    5927  Stephen King movies are a funny thing with me....       9   \n",
              "22968   8172  A cannibalistic backwoods killer is on the pro...       1   \n",
              "17663   3398  It seems that the intention of the film was to...       3   \n",
              "10894   8556  This movie is plain fun.I has nothing to do wi...       7   \n",
              "\n",
              "       label  class                                       text_cleaned  \n",
              "10080      1      1  [overlong, compelling, retelling, friendship, ...  \n",
              "7973       1      1  [stephen, king, movies, funny, thing, either, ...  \n",
              "22968      0      0  [cannibalistic, backwoods, killer, prowl, two,...  \n",
              "17663      0      0  [seems, intention, film, show, aggressive, maf...  \n",
              "10894      1      1  [movie, plain, fun, nothing, original, america...  "
            ],
            "text/html": [
              "\n",
              "  <div id=\"df-19298689-38ad-4dc4-aa26-448606c2e6bf\" class=\"colab-df-container\">\n",
              "    <div>\n",
              "<style scoped>\n",
              "    .dataframe tbody tr th:only-of-type {\n",
              "        vertical-align: middle;\n",
              "    }\n",
              "\n",
              "    .dataframe tbody tr th {\n",
              "        vertical-align: top;\n",
              "    }\n",
              "\n",
              "    .dataframe thead th {\n",
              "        text-align: right;\n",
              "    }\n",
              "</style>\n",
              "<table border=\"1\" class=\"dataframe\">\n",
              "  <thead>\n",
              "    <tr style=\"text-align: right;\">\n",
              "      <th></th>\n",
              "      <th>sl_no</th>\n",
              "      <th>text</th>\n",
              "      <th>rating</th>\n",
              "      <th>label</th>\n",
              "      <th>class</th>\n",
              "      <th>text_cleaned</th>\n",
              "    </tr>\n",
              "  </thead>\n",
              "  <tbody>\n",
              "    <tr>\n",
              "      <th>10080</th>\n",
              "      <td>7823</td>\n",
              "      <td>An overlong, but compelling retelling of the f...</td>\n",
              "      <td>7</td>\n",
              "      <td>1</td>\n",
              "      <td>1</td>\n",
              "      <td>[overlong, compelling, retelling, friendship, ...</td>\n",
              "    </tr>\n",
              "    <tr>\n",
              "      <th>7973</th>\n",
              "      <td>5927</td>\n",
              "      <td>Stephen King movies are a funny thing with me....</td>\n",
              "      <td>9</td>\n",
              "      <td>1</td>\n",
              "      <td>1</td>\n",
              "      <td>[stephen, king, movies, funny, thing, either, ...</td>\n",
              "    </tr>\n",
              "    <tr>\n",
              "      <th>22968</th>\n",
              "      <td>8172</td>\n",
              "      <td>A cannibalistic backwoods killer is on the pro...</td>\n",
              "      <td>1</td>\n",
              "      <td>0</td>\n",
              "      <td>0</td>\n",
              "      <td>[cannibalistic, backwoods, killer, prowl, two,...</td>\n",
              "    </tr>\n",
              "    <tr>\n",
              "      <th>17663</th>\n",
              "      <td>3398</td>\n",
              "      <td>It seems that the intention of the film was to...</td>\n",
              "      <td>3</td>\n",
              "      <td>0</td>\n",
              "      <td>0</td>\n",
              "      <td>[seems, intention, film, show, aggressive, maf...</td>\n",
              "    </tr>\n",
              "    <tr>\n",
              "      <th>10894</th>\n",
              "      <td>8556</td>\n",
              "      <td>This movie is plain fun.I has nothing to do wi...</td>\n",
              "      <td>7</td>\n",
              "      <td>1</td>\n",
              "      <td>1</td>\n",
              "      <td>[movie, plain, fun, nothing, original, america...</td>\n",
              "    </tr>\n",
              "  </tbody>\n",
              "</table>\n",
              "</div>\n",
              "    <div class=\"colab-df-buttons\">\n",
              "\n",
              "  <div class=\"colab-df-container\">\n",
              "    <button class=\"colab-df-convert\" onclick=\"convertToInteractive('df-19298689-38ad-4dc4-aa26-448606c2e6bf')\"\n",
              "            title=\"Convert this dataframe to an interactive table.\"\n",
              "            style=\"display:none;\">\n",
              "\n",
              "  <svg xmlns=\"http://www.w3.org/2000/svg\" height=\"24px\" viewBox=\"0 -960 960 960\">\n",
              "    <path d=\"M120-120v-720h720v720H120Zm60-500h600v-160H180v160Zm220 220h160v-160H400v160Zm0 220h160v-160H400v160ZM180-400h160v-160H180v160Zm440 0h160v-160H620v160ZM180-180h160v-160H180v160Zm440 0h160v-160H620v160Z\"/>\n",
              "  </svg>\n",
              "    </button>\n",
              "\n",
              "  <style>\n",
              "    .colab-df-container {\n",
              "      display:flex;\n",
              "      gap: 12px;\n",
              "    }\n",
              "\n",
              "    .colab-df-convert {\n",
              "      background-color: #E8F0FE;\n",
              "      border: none;\n",
              "      border-radius: 50%;\n",
              "      cursor: pointer;\n",
              "      display: none;\n",
              "      fill: #1967D2;\n",
              "      height: 32px;\n",
              "      padding: 0 0 0 0;\n",
              "      width: 32px;\n",
              "    }\n",
              "\n",
              "    .colab-df-convert:hover {\n",
              "      background-color: #E2EBFA;\n",
              "      box-shadow: 0px 1px 2px rgba(60, 64, 67, 0.3), 0px 1px 3px 1px rgba(60, 64, 67, 0.15);\n",
              "      fill: #174EA6;\n",
              "    }\n",
              "\n",
              "    .colab-df-buttons div {\n",
              "      margin-bottom: 4px;\n",
              "    }\n",
              "\n",
              "    [theme=dark] .colab-df-convert {\n",
              "      background-color: #3B4455;\n",
              "      fill: #D2E3FC;\n",
              "    }\n",
              "\n",
              "    [theme=dark] .colab-df-convert:hover {\n",
              "      background-color: #434B5C;\n",
              "      box-shadow: 0px 1px 3px 1px rgba(0, 0, 0, 0.15);\n",
              "      filter: drop-shadow(0px 1px 2px rgba(0, 0, 0, 0.3));\n",
              "      fill: #FFFFFF;\n",
              "    }\n",
              "  </style>\n",
              "\n",
              "    <script>\n",
              "      const buttonEl =\n",
              "        document.querySelector('#df-19298689-38ad-4dc4-aa26-448606c2e6bf button.colab-df-convert');\n",
              "      buttonEl.style.display =\n",
              "        google.colab.kernel.accessAllowed ? 'block' : 'none';\n",
              "\n",
              "      async function convertToInteractive(key) {\n",
              "        const element = document.querySelector('#df-19298689-38ad-4dc4-aa26-448606c2e6bf');\n",
              "        const dataTable =\n",
              "          await google.colab.kernel.invokeFunction('convertToInteractive',\n",
              "                                                    [key], {});\n",
              "        if (!dataTable) return;\n",
              "\n",
              "        const docLinkHtml = 'Like what you see? Visit the ' +\n",
              "          '<a target=\"_blank\" href=https://colab.research.google.com/notebooks/data_table.ipynb>data table notebook</a>'\n",
              "          + ' to learn more about interactive tables.';\n",
              "        element.innerHTML = '';\n",
              "        dataTable['output_type'] = 'display_data';\n",
              "        await google.colab.output.renderOutput(dataTable, element);\n",
              "        const docLink = document.createElement('div');\n",
              "        docLink.innerHTML = docLinkHtml;\n",
              "        element.appendChild(docLink);\n",
              "      }\n",
              "    </script>\n",
              "  </div>\n",
              "\n",
              "\n",
              "<div id=\"df-21437761-f70c-49cc-9f21-7cbb70b9a4b7\">\n",
              "  <button class=\"colab-df-quickchart\" onclick=\"quickchart('df-21437761-f70c-49cc-9f21-7cbb70b9a4b7')\"\n",
              "            title=\"Suggest charts\"\n",
              "            style=\"display:none;\">\n",
              "\n",
              "<svg xmlns=\"http://www.w3.org/2000/svg\" height=\"24px\"viewBox=\"0 0 24 24\"\n",
              "     width=\"24px\">\n",
              "    <g>\n",
              "        <path d=\"M19 3H5c-1.1 0-2 .9-2 2v14c0 1.1.9 2 2 2h14c1.1 0 2-.9 2-2V5c0-1.1-.9-2-2-2zM9 17H7v-7h2v7zm4 0h-2V7h2v10zm4 0h-2v-4h2v4z\"/>\n",
              "    </g>\n",
              "</svg>\n",
              "  </button>\n",
              "\n",
              "<style>\n",
              "  .colab-df-quickchart {\n",
              "      --bg-color: #E8F0FE;\n",
              "      --fill-color: #1967D2;\n",
              "      --hover-bg-color: #E2EBFA;\n",
              "      --hover-fill-color: #174EA6;\n",
              "      --disabled-fill-color: #AAA;\n",
              "      --disabled-bg-color: #DDD;\n",
              "  }\n",
              "\n",
              "  [theme=dark] .colab-df-quickchart {\n",
              "      --bg-color: #3B4455;\n",
              "      --fill-color: #D2E3FC;\n",
              "      --hover-bg-color: #434B5C;\n",
              "      --hover-fill-color: #FFFFFF;\n",
              "      --disabled-bg-color: #3B4455;\n",
              "      --disabled-fill-color: #666;\n",
              "  }\n",
              "\n",
              "  .colab-df-quickchart {\n",
              "    background-color: var(--bg-color);\n",
              "    border: none;\n",
              "    border-radius: 50%;\n",
              "    cursor: pointer;\n",
              "    display: none;\n",
              "    fill: var(--fill-color);\n",
              "    height: 32px;\n",
              "    padding: 0;\n",
              "    width: 32px;\n",
              "  }\n",
              "\n",
              "  .colab-df-quickchart:hover {\n",
              "    background-color: var(--hover-bg-color);\n",
              "    box-shadow: 0 1px 2px rgba(60, 64, 67, 0.3), 0 1px 3px 1px rgba(60, 64, 67, 0.15);\n",
              "    fill: var(--button-hover-fill-color);\n",
              "  }\n",
              "\n",
              "  .colab-df-quickchart-complete:disabled,\n",
              "  .colab-df-quickchart-complete:disabled:hover {\n",
              "    background-color: var(--disabled-bg-color);\n",
              "    fill: var(--disabled-fill-color);\n",
              "    box-shadow: none;\n",
              "  }\n",
              "\n",
              "  .colab-df-spinner {\n",
              "    border: 2px solid var(--fill-color);\n",
              "    border-color: transparent;\n",
              "    border-bottom-color: var(--fill-color);\n",
              "    animation:\n",
              "      spin 1s steps(1) infinite;\n",
              "  }\n",
              "\n",
              "  @keyframes spin {\n",
              "    0% {\n",
              "      border-color: transparent;\n",
              "      border-bottom-color: var(--fill-color);\n",
              "      border-left-color: var(--fill-color);\n",
              "    }\n",
              "    20% {\n",
              "      border-color: transparent;\n",
              "      border-left-color: var(--fill-color);\n",
              "      border-top-color: var(--fill-color);\n",
              "    }\n",
              "    30% {\n",
              "      border-color: transparent;\n",
              "      border-left-color: var(--fill-color);\n",
              "      border-top-color: var(--fill-color);\n",
              "      border-right-color: var(--fill-color);\n",
              "    }\n",
              "    40% {\n",
              "      border-color: transparent;\n",
              "      border-right-color: var(--fill-color);\n",
              "      border-top-color: var(--fill-color);\n",
              "    }\n",
              "    60% {\n",
              "      border-color: transparent;\n",
              "      border-right-color: var(--fill-color);\n",
              "    }\n",
              "    80% {\n",
              "      border-color: transparent;\n",
              "      border-right-color: var(--fill-color);\n",
              "      border-bottom-color: var(--fill-color);\n",
              "    }\n",
              "    90% {\n",
              "      border-color: transparent;\n",
              "      border-bottom-color: var(--fill-color);\n",
              "    }\n",
              "  }\n",
              "</style>\n",
              "\n",
              "  <script>\n",
              "    async function quickchart(key) {\n",
              "      const quickchartButtonEl =\n",
              "        document.querySelector('#' + key + ' button');\n",
              "      quickchartButtonEl.disabled = true;  // To prevent multiple clicks.\n",
              "      quickchartButtonEl.classList.add('colab-df-spinner');\n",
              "      try {\n",
              "        const charts = await google.colab.kernel.invokeFunction(\n",
              "            'suggestCharts', [key], {});\n",
              "      } catch (error) {\n",
              "        console.error('Error during call to suggestCharts:', error);\n",
              "      }\n",
              "      quickchartButtonEl.classList.remove('colab-df-spinner');\n",
              "      quickchartButtonEl.classList.add('colab-df-quickchart-complete');\n",
              "    }\n",
              "    (() => {\n",
              "      let quickchartButtonEl =\n",
              "        document.querySelector('#df-21437761-f70c-49cc-9f21-7cbb70b9a4b7 button');\n",
              "      quickchartButtonEl.style.display =\n",
              "        google.colab.kernel.accessAllowed ? 'block' : 'none';\n",
              "    })();\n",
              "  </script>\n",
              "</div>\n",
              "\n",
              "    </div>\n",
              "  </div>\n"
            ],
            "application/vnd.google.colaboratory.intrinsic+json": {
              "type": "dataframe",
              "summary": "{\n  \"name\": \"new_train_df\",\n  \"rows\": 5,\n  \"fields\": [\n    {\n      \"column\": \"sl_no\",\n      \"properties\": {\n        \"dtype\": \"number\",\n        \"std\": 2141,\n        \"min\": 3398,\n        \"max\": 8556,\n        \"num_unique_values\": 5,\n        \"samples\": [\n          5927,\n          8556,\n          8172\n        ],\n        \"semantic_type\": \"\",\n        \"description\": \"\"\n      }\n    },\n    {\n      \"column\": \"text\",\n      \"properties\": {\n        \"dtype\": \"string\",\n        \"num_unique_values\": 5,\n        \"samples\": [\n          \"Stephen King movies are a funny thing with me. I either really love them or I loathe them. Some of the fancier productions (such as Desperation and Storm of the Century) I didn't enjoy. Some of the smaller ones, I really loved. Sleepwalkers is one that I really do enjoy and watch it regularly.<br /><br />The story revolves around Charles Brady and his mother Mary. They are Sleepwalkers, shape shifting creatures who although human like in appearance shift into a feline like creature. They are immune to the scratch of cats and whenever they move to a new town, lay out traps to catch and kill the animals. When they move to their latest town, they need to seek out a virgin and when Charles finds one, he actually falls for her,but his mother needs to feed from her to keep up her strength. The story revolves around what will happen with the girl. Will Charles spare her or use her to save his mother.<br /><br />Although this story has overtones of incest which some may find unappealing it does actually play a part in the story and is therefore not just plonked in the movie for scandal's sake. Like most Stephen King stories it's based in a small town with lots of interesting characters. The acting isn't the best, nor are the special effects, however, somehow, the whole thing tends to 'gel' and is very watchable and enjoyable adaption.<br /><br />For UK readers: This production has most recently been shown on BBC1, Sci-Fi and Sky Thriller/Horror channels.\",\n          \"This movie is plain fun.I has nothing to do with the original America Pie, but it is fun to watch.<br /><br />Another try, but better than Band camp and The naked mile, at least funnier.<br /><br />Just after first five minutes i was laughing my ass out, so I decided to call my friend and we would watch it together.We had a few beers and we had fun.<br /><br />You will not find any deep message in this movie, but it's worth watching.<br /><br />So, lay back and just enjoy.\",\n          \"A cannibalistic backwoods killer is on the prowl and two bickering couples might be his next source of protein in this bargain basement Friday the 13th-clone cheapie. There s literally nothing of interest to see in this one, the killings are surprisingly sparse and when they do happen, completely amateurish. It also adds ghosts into the mix for no reason what so ever. I felt drained after watching it as if my brain was liquefying and draining out my nose. And it remains without a doubt Donald Jones' worst movie. If you're thinking of renting it because of Code Red's snazzy new DVD re-release Don't bother<br /><br />My Grade: F\"\n        ],\n        \"semantic_type\": \"\",\n        \"description\": \"\"\n      }\n    },\n    {\n      \"column\": \"rating\",\n      \"properties\": {\n        \"dtype\": \"number\",\n        \"std\": 3,\n        \"min\": 1,\n        \"max\": 9,\n        \"num_unique_values\": 4,\n        \"samples\": [\n          9,\n          3,\n          7\n        ],\n        \"semantic_type\": \"\",\n        \"description\": \"\"\n      }\n    },\n    {\n      \"column\": \"label\",\n      \"properties\": {\n        \"dtype\": \"number\",\n        \"std\": 0,\n        \"min\": 0,\n        \"max\": 1,\n        \"num_unique_values\": 2,\n        \"samples\": [\n          0,\n          1\n        ],\n        \"semantic_type\": \"\",\n        \"description\": \"\"\n      }\n    },\n    {\n      \"column\": \"class\",\n      \"properties\": {\n        \"dtype\": \"number\",\n        \"std\": 0,\n        \"min\": 0,\n        \"max\": 1,\n        \"num_unique_values\": 2,\n        \"samples\": [\n          0,\n          1\n        ],\n        \"semantic_type\": \"\",\n        \"description\": \"\"\n      }\n    },\n    {\n      \"column\": \"text_cleaned\",\n      \"properties\": {\n        \"dtype\": \"object\",\n        \"semantic_type\": \"\",\n        \"description\": \"\"\n      }\n    }\n  ]\n}"
            }
          },
          "metadata": {},
          "execution_count": 24
        }
      ],
      "source": [
        "new_train_df.tail()"
      ]
    },
    {
      "cell_type": "markdown",
      "metadata": {
        "id": "x_BpUhGNvU-9"
      },
      "source": [
        "TEXT VISULAIZATION"
      ]
    },
    {
      "cell_type": "code",
      "execution_count": null,
      "metadata": {
        "id": "61eAeGcLwCbY"
      },
      "outputs": [],
      "source": [
        "new_train_df['length'] = new_train_df['cleaned_text'].apply(lambda x: len(x))\n",
        "new_val_df['length'] = new_val_df['cleaned_text'].apply(lambda x: len(x))\n",
        "new_test_df['length'] = new_test_df['cleaned_text'].apply(lambda x: len(x))"
      ]
    },
    {
      "cell_type": "code",
      "execution_count": null,
      "metadata": {
        "colab": {
          "base_uri": "https://localhost:8080/",
          "height": 472
        },
        "id": "Tmm03WoAwUqE",
        "outputId": "81b4a154-efc8-4dea-b082-02c5d2663929"
      },
      "outputs": [
        {
          "output_type": "display_data",
          "data": {
            "text/plain": [
              "<Figure size 640x480 with 1 Axes>"
            ],
            "image/png": "[encoded data removed]"
          },
          "metadata": {}
        }
      ],
      "source": [
        "import matplotlib.pyplot as plt\n",
        "import seaborn as sns\n",
        "\n",
        "# Create a figure with 3 subplots\n",
        "fig, axes = plt.subplots(1, 3, figsize=(18, 5))\n",
        "\n",
        "# Plot Training Data Length Distribution\n",
        "sns.histplot(new_train_df['length'], kde=True, color='red', bins=30, ax=axes[0])\n",
        "axes[0].set_title('Training Data Length Distribution')\n",
        "\n",
        "# Plot Validation Data Length Distribution\n",
        "sns.histplot(new_val_df['length'], kde=True, color='red', bins=30, ax=axes[1])\n",
        "axes[1].set_title('Validation Data Length Distribution')\n",
        "\n",
        "# Plot Testing Data Length Distribution\n",
        "sns.histplot(new_test_df['length'], kde=True, color='red', bins=30, ax=axes[2])\n",
        "axes[2].set_title('Testing Data Length Distribution')\n",
        "\n",
        "# Show the plots\n",
        "plt.tight_layout()\n",
        "plt.show()"
      ]
    },
    {
      "cell_type": "code",
      "execution_count": null,
      "metadata": {
        "colab": {
          "base_uri": "https://localhost:8080/",
          "height": 419
        },
        "id": "Pi3Xny7WeL0d",
        "outputId": "ffb27718-b91d-46b5-9a06-a94e1c7b35a2"
      },
      "outputs": [
        {
          "output_type": "execute_result",
          "data": {
            "text/plain": [
              "       sl_no                                               text  rating  \\\n",
              "7522    5520  Many reviews I've read reveals that most peopl...       9   \n",
              "17493   3244  The effect achieved in this story about a psyc...       3   \n",
              "12260   9786  I really enjoyed the performances of the main ...       8   \n",
              "1275   11148  'Midnight Cowboy' was rated X with the origina...       9   \n",
              "8004    5955  As the maker of \"This Darkness,\" I admit we ne...      10   \n",
              "...      ...                                                ...     ...   \n",
              "10080   7823  An overlong, but compelling retelling of the f...       7   \n",
              "7973    5927  Stephen King movies are a funny thing with me....       9   \n",
              "22968   8172  A cannibalistic backwoods killer is on the pro...       1   \n",
              "17663   3398  It seems that the intention of the film was to...       3   \n",
              "10894   8556  This movie is plain fun.I has nothing to do wi...       7   \n",
              "\n",
              "       label  class                                       text_cleaned  length  \n",
              "7522       1      1  [many, reviews, read, reveals, people, tend, l...     246  \n",
              "17493      0      0  [effect, achieved, story, psychiatrist, become...      96  \n",
              "12260      1      1  [really, enjoyed, performances, main, cast, em...      57  \n",
              "1275       1      1  [midnight, cowboy, rated, original, release, b...     115  \n",
              "8004       1      1  [maker, this, darkness, admit, neglected, impo...      64  \n",
              "...      ...    ...                                                ...     ...  \n",
              "10080      1      1  [overlong, compelling, retelling, friendship, ...      56  \n",
              "7973       1      1  [stephen, king, movies, funny, thing, either, ...     137  \n",
              "22968      0      0  [cannibalistic, backwoods, killer, prowl, two,...      57  \n",
              "17663      0      0  [seems, intention, film, show, aggressive, maf...      67  \n",
              "10894      1      1  [movie, plain, fun, nothing, original, america...      43  \n",
              "\n",
              "[20000 rows x 7 columns]"
            ],
            "text/html": [
              "\n",
              "  <div id=\"df-e5aed84f-e9ae-4918-983b-914de9757d56\" class=\"colab-df-container\">\n",
              "    <div>\n",
              "<style scoped>\n",
              "    .dataframe tbody tr th:only-of-type {\n",
              "        vertical-align: middle;\n",
              "    }\n",
              "\n",
              "    .dataframe tbody tr th {\n",
              "        vertical-align: top;\n",
              "    }\n",
              "\n",
              "    .dataframe thead th {\n",
              "        text-align: right;\n",
              "    }\n",
              "</style>\n",
              "<table border=\"1\" class=\"dataframe\">\n",
              "  <thead>\n",
              "    <tr style=\"text-align: right;\">\n",
              "      <th></th>\n",
              "      <th>sl_no</th>\n",
              "      <th>text</th>\n",
              "      <th>rating</th>\n",
              "      <th>label</th>\n",
              "      <th>class</th>\n",
              "      <th>text_cleaned</th>\n",
              "      <th>length</th>\n",
              "    </tr>\n",
              "  </thead>\n",
              "  <tbody>\n",
              "    <tr>\n",
              "      <th>7522</th>\n",
              "      <td>5520</td>\n",
              "      <td>Many reviews I've read reveals that most peopl...</td>\n",
              "      <td>9</td>\n",
              "      <td>1</td>\n",
              "      <td>1</td>\n",
              "      <td>[many, reviews, read, reveals, people, tend, l...</td>\n",
              "      <td>246</td>\n",
              "    </tr>\n",
              "    <tr>\n",
              "      <th>17493</th>\n",
              "      <td>3244</td>\n",
              "      <td>The effect achieved in this story about a psyc...</td>\n",
              "      <td>3</td>\n",
              "      <td>0</td>\n",
              "      <td>0</td>\n",
              "      <td>[effect, achieved, story, psychiatrist, become...</td>\n",
              "      <td>96</td>\n",
              "    </tr>\n",
              "    <tr>\n",
              "      <th>12260</th>\n",
              "      <td>9786</td>\n",
              "      <td>I really enjoyed the performances of the main ...</td>\n",
              "      <td>8</td>\n",
              "      <td>1</td>\n",
              "      <td>1</td>\n",
              "      <td>[really, enjoyed, performances, main, cast, em...</td>\n",
              "      <td>57</td>\n",
              "    </tr>\n",
              "    <tr>\n",
              "      <th>1275</th>\n",
              "      <td>11148</td>\n",
              "      <td>'Midnight Cowboy' was rated X with the origina...</td>\n",
              "      <td>9</td>\n",
              "      <td>1</td>\n",
              "      <td>1</td>\n",
              "      <td>[midnight, cowboy, rated, original, release, b...</td>\n",
              "      <td>115</td>\n",
              "    </tr>\n",
              "    <tr>\n",
              "      <th>8004</th>\n",
              "      <td>5955</td>\n",
              "      <td>As the maker of \"This Darkness,\" I admit we ne...</td>\n",
              "      <td>10</td>\n",
              "      <td>1</td>\n",
              "      <td>1</td>\n",
              "      <td>[maker, this, darkness, admit, neglected, impo...</td>\n",
              "      <td>64</td>\n",
              "    </tr>\n",
              "    <tr>\n",
              "      <th>...</th>\n",
              "      <td>...</td>\n",
              "      <td>...</td>\n",
              "      <td>...</td>\n",
              "      <td>...</td>\n",
              "      <td>...</td>\n",
              "      <td>...</td>\n",
              "      <td>...</td>\n",
              "    </tr>\n",
              "    <tr>\n",
              "      <th>10080</th>\n",
              "      <td>7823</td>\n",
              "      <td>An overlong, but compelling retelling of the f...</td>\n",
              "      <td>7</td>\n",
              "      <td>1</td>\n",
              "      <td>1</td>\n",
              "      <td>[overlong, compelling, retelling, friendship, ...</td>\n",
              "      <td>56</td>\n",
              "    </tr>\n",
              "    <tr>\n",
              "      <th>7973</th>\n",
              "      <td>5927</td>\n",
              "      <td>Stephen King movies are a funny thing with me....</td>\n",
              "      <td>9</td>\n",
              "      <td>1</td>\n",
              "      <td>1</td>\n",
              "      <td>[stephen, king, movies, funny, thing, either, ...</td>\n",
              "      <td>137</td>\n",
              "    </tr>\n",
              "    <tr>\n",
              "      <th>22968</th>\n",
              "      <td>8172</td>\n",
              "      <td>A cannibalistic backwoods killer is on the pro...</td>\n",
              "      <td>1</td>\n",
              "      <td>0</td>\n",
              "      <td>0</td>\n",
              "      <td>[cannibalistic, backwoods, killer, prowl, two,...</td>\n",
              "      <td>57</td>\n",
              "    </tr>\n",
              "    <tr>\n",
              "      <th>17663</th>\n",
              "      <td>3398</td>\n",
              "      <td>It seems that the intention of the film was to...</td>\n",
              "      <td>3</td>\n",
              "      <td>0</td>\n",
              "      <td>0</td>\n",
              "      <td>[seems, intention, film, show, aggressive, maf...</td>\n",
              "      <td>67</td>\n",
              "    </tr>\n",
              "    <tr>\n",
              "      <th>10894</th>\n",
              "      <td>8556</td>\n",
              "      <td>This movie is plain fun.I has nothing to do wi...</td>\n",
              "      <td>7</td>\n",
              "      <td>1</td>\n",
              "      <td>1</td>\n",
              "      <td>[movie, plain, fun, nothing, original, america...</td>\n",
              "      <td>43</td>\n",
              "    </tr>\n",
              "  </tbody>\n",
              "</table>\n",
              "<p>20000 rows × 7 columns</p>\n",
              "</div>\n",
              "    <div class=\"colab-df-buttons\">\n",
              "\n",
              "  <div class=\"colab-df-container\">\n",
              "    <button class=\"colab-df-convert\" onclick=\"convertToInteractive('df-e5aed84f-e9ae-4918-983b-914de9757d56')\"\n",
              "            title=\"Convert this dataframe to an interactive table.\"\n",
              "            style=\"display:none;\">\n",
              "\n",
              "  <svg xmlns=\"http://www.w3.org/2000/svg\" height=\"24px\" viewBox=\"0 -960 960 960\">\n",
              "    <path d=\"M120-120v-720h720v720H120Zm60-500h600v-160H180v160Zm220 220h160v-160H400v160Zm0 220h160v-160H400v160ZM180-400h160v-160H180v160Zm440 0h160v-160H620v160ZM180-180h160v-160H180v160Zm440 0h160v-160H620v160Z\"/>\n",
              "  </svg>\n",
              "    </button>\n",
              "\n",
              "  <style>\n",
              "    .colab-df-container {\n",
              "      display:flex;\n",
              "      gap: 12px;\n",
              "    }\n",
              "\n",
              "    .colab-df-convert {\n",
              "      background-color: #E8F0FE;\n",
              "      border: none;\n",
              "      border-radius: 50%;\n",
              "      cursor: pointer;\n",
              "      display: none;\n",
              "      fill: #1967D2;\n",
              "      height: 32px;\n",
              "      padding: 0 0 0 0;\n",
              "      width: 32px;\n",
              "    }\n",
              "\n",
              "    .colab-df-convert:hover {\n",
              "      background-color: #E2EBFA;\n",
              "      box-shadow: 0px 1px 2px rgba(60, 64, 67, 0.3), 0px 1px 3px 1px rgba(60, 64, 67, 0.15);\n",
              "      fill: #174EA6;\n",
              "    }\n",
              "\n",
              "    .colab-df-buttons div {\n",
              "      margin-bottom: 4px;\n",
              "    }\n",
              "\n",
              "    [theme=dark] .colab-df-convert {\n",
              "      background-color: #3B4455;\n",
              "      fill: #D2E3FC;\n",
              "    }\n",
              "\n",
              "    [theme=dark] .colab-df-convert:hover {\n",
              "      background-color: #434B5C;\n",
              "      box-shadow: 0px 1px 3px 1px rgba(0, 0, 0, 0.15);\n",
              "      filter: drop-shadow(0px 1px 2px rgba(0, 0, 0, 0.3));\n",
              "      fill: #FFFFFF;\n",
              "    }\n",
              "  </style>\n",
              "\n",
              "    <script>\n",
              "      const buttonEl =\n",
              "        document.querySelector('#df-e5aed84f-e9ae-4918-983b-914de9757d56 button.colab-df-convert');\n",
              "      buttonEl.style.display =\n",
              "        google.colab.kernel.accessAllowed ? 'block' : 'none';\n",
              "\n",
              "      async function convertToInteractive(key) {\n",
              "        const element = document.querySelector('#df-e5aed84f-e9ae-4918-983b-914de9757d56');\n",
              "        const dataTable =\n",
              "          await google.colab.kernel.invokeFunction('convertToInteractive',\n",
              "                                                    [key], {});\n",
              "        if (!dataTable) return;\n",
              "\n",
              "        const docLinkHtml = 'Like what you see? Visit the ' +\n",
              "          '<a target=\"_blank\" href=https://colab.research.google.com/notebooks/data_table.ipynb>data table notebook</a>'\n",
              "          + ' to learn more about interactive tables.';\n",
              "        element.innerHTML = '';\n",
              "        dataTable['output_type'] = 'display_data';\n",
              "        await google.colab.output.renderOutput(dataTable, element);\n",
              "        const docLink = document.createElement('div');\n",
              "        docLink.innerHTML = docLinkHtml;\n",
              "        element.appendChild(docLink);\n",
              "      }\n",
              "    </script>\n",
              "  </div>\n",
              "\n",
              "\n",
              "<div id=\"df-08a5e24f-388e-410d-b27e-7c4ebdaa81d3\">\n",
              "  <button class=\"colab-df-quickchart\" onclick=\"quickchart('df-08a5e24f-388e-410d-b27e-7c4ebdaa81d3')\"\n",
              "            title=\"Suggest charts\"\n",
              "            style=\"display:none;\">\n",
              "\n",
              "<svg xmlns=\"http://www.w3.org/2000/svg\" height=\"24px\"viewBox=\"0 0 24 24\"\n",
              "     width=\"24px\">\n",
              "    <g>\n",
              "        <path d=\"M19 3H5c-1.1 0-2 .9-2 2v14c0 1.1.9 2 2 2h14c1.1 0 2-.9 2-2V5c0-1.1-.9-2-2-2zM9 17H7v-7h2v7zm4 0h-2V7h2v10zm4 0h-2v-4h2v4z\"/>\n",
              "    </g>\n",
              "</svg>\n",
              "  </button>\n",
              "\n",
              "<style>\n",
              "  .colab-df-quickchart {\n",
              "      --bg-color: #E8F0FE;\n",
              "      --fill-color: #1967D2;\n",
              "      --hover-bg-color: #E2EBFA;\n",
              "      --hover-fill-color: #174EA6;\n",
              "      --disabled-fill-color: #AAA;\n",
              "      --disabled-bg-color: #DDD;\n",
              "  }\n",
              "\n",
              "  [theme=dark] .colab-df-quickchart {\n",
              "      --bg-color: #3B4455;\n",
              "      --fill-color: #D2E3FC;\n",
              "      --hover-bg-color: #434B5C;\n",
              "      --hover-fill-color: #FFFFFF;\n",
              "      --disabled-bg-color: #3B4455;\n",
              "      --disabled-fill-color: #666;\n",
              "  }\n",
              "\n",
              "  .colab-df-quickchart {\n",
              "    background-color: var(--bg-color);\n",
              "    border: none;\n",
              "    border-radius: 50%;\n",
              "    cursor: pointer;\n",
              "    display: none;\n",
              "    fill: var(--fill-color);\n",
              "    height: 32px;\n",
              "    padding: 0;\n",
              "    width: 32px;\n",
              "  }\n",
              "\n",
              "  .colab-df-quickchart:hover {\n",
              "    background-color: var(--hover-bg-color);\n",
              "    box-shadow: 0 1px 2px rgba(60, 64, 67, 0.3), 0 1px 3px 1px rgba(60, 64, 67, 0.15);\n",
              "    fill: var(--button-hover-fill-color);\n",
              "  }\n",
              "\n",
              "  .colab-df-quickchart-complete:disabled,\n",
              "  .colab-df-quickchart-complete:disabled:hover {\n",
              "    background-color: var(--disabled-bg-color);\n",
              "    fill: var(--disabled-fill-color);\n",
              "    box-shadow: none;\n",
              "  }\n",
              "\n",
              "  .colab-df-spinner {\n",
              "    border: 2px solid var(--fill-color);\n",
              "    border-color: transparent;\n",
              "    border-bottom-color: var(--fill-color);\n",
              "    animation:\n",
              "      spin 1s steps(1) infinite;\n",
              "  }\n",
              "\n",
              "  @keyframes spin {\n",
              "    0% {\n",
              "      border-color: transparent;\n",
              "      border-bottom-color: var(--fill-color);\n",
              "      border-left-color: var(--fill-color);\n",
              "    }\n",
              "    20% {\n",
              "      border-color: transparent;\n",
              "      border-left-color: var(--fill-color);\n",
              "      border-top-color: var(--fill-color);\n",
              "    }\n",
              "    30% {\n",
              "      border-color: transparent;\n",
              "      border-left-color: var(--fill-color);\n",
              "      border-top-color: var(--fill-color);\n",
              "      border-right-color: var(--fill-color);\n",
              "    }\n",
              "    40% {\n",
              "      border-color: transparent;\n",
              "      border-right-color: var(--fill-color);\n",
              "      border-top-color: var(--fill-color);\n",
              "    }\n",
              "    60% {\n",
              "      border-color: transparent;\n",
              "      border-right-color: var(--fill-color);\n",
              "    }\n",
              "    80% {\n",
              "      border-color: transparent;\n",
              "      border-right-color: var(--fill-color);\n",
              "      border-bottom-color: var(--fill-color);\n",
              "    }\n",
              "    90% {\n",
              "      border-color: transparent;\n",
              "      border-bottom-color: var(--fill-color);\n",
              "    }\n",
              "  }\n",
              "</style>\n",
              "\n",
              "  <script>\n",
              "    async function quickchart(key) {\n",
              "      const quickchartButtonEl =\n",
              "        document.querySelector('#' + key + ' button');\n",
              "      quickchartButtonEl.disabled = true;  // To prevent multiple clicks.\n",
              "      quickchartButtonEl.classList.add('colab-df-spinner');\n",
              "      try {\n",
              "        const charts = await google.colab.kernel.invokeFunction(\n",
              "            'suggestCharts', [key], {});\n",
              "      } catch (error) {\n",
              "        console.error('Error during call to suggestCharts:', error);\n",
              "      }\n",
              "      quickchartButtonEl.classList.remove('colab-df-spinner');\n",
              "      quickchartButtonEl.classList.add('colab-df-quickchart-complete');\n",
              "    }\n",
              "    (() => {\n",
              "      let quickchartButtonEl =\n",
              "        document.querySelector('#df-08a5e24f-388e-410d-b27e-7c4ebdaa81d3 button');\n",
              "      quickchartButtonEl.style.display =\n",
              "        google.colab.kernel.accessAllowed ? 'block' : 'none';\n",
              "    })();\n",
              "  </script>\n",
              "</div>\n",
              "\n",
              "  <div id=\"id_71ca5570-25ba-4ede-bf3d-5a7349075665\">\n",
              "    <style>\n",
              "      .colab-df-generate {\n",
              "        background-color: #E8F0FE;\n",
              "        border: none;\n",
              "        border-radius: 50%;\n",
              "        cursor: pointer;\n",
              "        display: none;\n",
              "        fill: #1967D2;\n",
              "        height: 32px;\n",
              "        padding: 0 0 0 0;\n",
              "        width: 32px;\n",
              "      }\n",
              "\n",
              "      .colab-df-generate:hover {\n",
              "        background-color: #E2EBFA;\n",
              "        box-shadow: 0px 1px 2px rgba(60, 64, 67, 0.3), 0px 1px 3px 1px rgba(60, 64, 67, 0.15);\n",
              "        fill: #174EA6;\n",
              "      }\n",
              "\n",
              "      [theme=dark] .colab-df-generate {\n",
              "        background-color: #3B4455;\n",
              "        fill: #D2E3FC;\n",
              "      }\n",
              "\n",
              "      [theme=dark] .colab-df-generate:hover {\n",
              "        background-color: #434B5C;\n",
              "        box-shadow: 0px 1px 3px 1px rgba(0, 0, 0, 0.15);\n",
              "        filter: drop-shadow(0px 1px 2px rgba(0, 0, 0, 0.3));\n",
              "        fill: #FFFFFF;\n",
              "      }\n",
              "    </style>\n",
              "    <button class=\"colab-df-generate\" onclick=\"generateWithVariable('train_df')\"\n",
              "            title=\"Generate code using this dataframe.\"\n",
              "            style=\"display:none;\">\n",
              "\n",
              "  <svg xmlns=\"http://www.w3.org/2000/svg\" height=\"24px\"viewBox=\"0 0 24 24\"\n",
              "       width=\"24px\">\n",
              "    <path d=\"M7,19H8.4L18.45,9,17,7.55,7,17.6ZM5,21V16.75L18.45,3.32a2,2,0,0,1,2.83,0l1.4,1.43a1.91,1.91,0,0,1,.58,1.4,1.91,1.91,0,0,1-.58,1.4L9.25,21ZM18.45,9,17,7.55Zm-12,3A5.31,5.31,0,0,0,4.9,8.1,5.31,5.31,0,0,0,1,6.5,5.31,5.31,0,0,0,4.9,4.9,5.31,5.31,0,0,0,6.5,1,5.31,5.31,0,0,0,8.1,4.9,5.31,5.31,0,0,0,12,6.5,5.46,5.46,0,0,0,6.5,12Z\"/>\n",
              "  </svg>\n",
              "    </button>\n",
              "    <script>\n",
              "      (() => {\n",
              "      const buttonEl =\n",
              "        document.querySelector('#id_71ca5570-25ba-4ede-bf3d-5a7349075665 button.colab-df-generate');\n",
              "      buttonEl.style.display =\n",
              "        google.colab.kernel.accessAllowed ? 'block' : 'none';\n",
              "\n",
              "      buttonEl.onclick = () => {\n",
              "        google.colab.notebook.generateWithVariable('train_df');\n",
              "      }\n",
              "      })();\n",
              "    </script>\n",
              "  </div>\n",
              "\n",
              "    </div>\n",
              "  </div>\n"
            ],
            "application/vnd.google.colaboratory.intrinsic+json": {
              "type": "dataframe",
              "variable_name": "train_df",
              "summary": "{\n  \"name\": \"train_df\",\n  \"rows\": 20000,\n  \"fields\": [\n    {\n      \"column\": \"sl_no\",\n      \"properties\": {\n        \"dtype\": \"number\",\n        \"std\": 3609,\n        \"min\": 0,\n        \"max\": 12499,\n        \"num_unique_values\": 11998,\n        \"samples\": [\n          9687,\n          2791,\n          762\n        ],\n        \"semantic_type\": \"\",\n        \"description\": \"\"\n      }\n    },\n    {\n      \"column\": \"text\",\n      \"properties\": {\n        \"dtype\": \"string\",\n        \"num_unique_values\": 19933,\n        \"samples\": [\n          \"Americans have the attention span of a fruit fly and if something does not happen within the span of a typical commercial, we tend to lose interest really fast.<br /><br />I found out an exciting fact from this film: someone has to paint high tension utility poles and do it on a schedule! And guess what, they really would like to be doing something else (the viewer has similar feelings).<br /><br />Surprisingly, when I was bored watching late night infomercials and decided to actually watch this film, I found the characters to be interesting and highly engaging.<br /><br />I just don't usually watch that much late night TV, so I can't recommend this film, unless watching paint dry is your idea of an exciting two hours out of your life.\",\n          \"The Haunting is a film that boasts a really creepy house, good effects work and sound work, a cast that seems to believe that everything around them is real and that house. There are scenes that make you jump, and the sinister aspects of what went on at Hill House in the past, I found interesting. There are genuinely creepy moments in the film and I liked the way the ghosts manifested themselves in sheets, curtains and the house itself. Jerry Goldsmith's score gave it the right atmosphere and the sound design had voices popping up around you. What I wish could've happened is for something a little more intense. Jan De Bont had a PG-13 rating to contend with and I think that he held back a little too much. Poltergeist scared me silly when I saw it many years ago, and it still holds up. The Haunting could've used a few more scenes of pure terror. The ending was for me, a little anticlimactic. Overall, I enjoyed it. The acting is good and there are moments that make you jump. I just wish it scared me more.\",\n          \"Although I rated this movie a 2 for showing a complete lack of effort in trying to create a quality horror film it was a 10 on the unintentional funny scale. I couldn't figure out what was going on in the movie or who the people were but I didn't care because I knew every scene was going to have something to make me cry with laughter. Dialogue is a minimum throughout the movie but I believe this is because they started filming without a script. The fact that there is no plot line makes the movie extremely versatile. It doesn't matter if you sit down and watch the movie from beginning to end or if you watch it in rewind you will be confused with enjoyment. I particularly like the scene in which the inmates are taking turns running around outside beating each other with sticks. I believe the doctor refers to this as treatment. Genius!\"\n        ],\n        \"semantic_type\": \"\",\n        \"description\": \"\"\n      }\n    },\n    {\n      \"column\": \"rating\",\n      \"properties\": {\n        \"dtype\": \"number\",\n        \"std\": 3,\n        \"min\": 1,\n        \"max\": 10,\n        \"num_unique_values\": 8,\n        \"samples\": [\n          3,\n          7,\n          9\n        ],\n        \"semantic_type\": \"\",\n        \"description\": \"\"\n      }\n    },\n    {\n      \"column\": \"label\",\n      \"properties\": {\n        \"dtype\": \"number\",\n        \"std\": 0,\n        \"min\": 0,\n        \"max\": 1,\n        \"num_unique_values\": 2,\n        \"samples\": [\n          0,\n          1\n        ],\n        \"semantic_type\": \"\",\n        \"description\": \"\"\n      }\n    },\n    {\n      \"column\": \"class\",\n      \"properties\": {\n        \"dtype\": \"number\",\n        \"std\": 0,\n        \"min\": 0,\n        \"max\": 1,\n        \"num_unique_values\": 2,\n        \"samples\": [\n          0,\n          1\n        ],\n        \"semantic_type\": \"\",\n        \"description\": \"\"\n      }\n    },\n    {\n      \"column\": \"text_cleaned\",\n      \"properties\": {\n        \"dtype\": \"object\",\n        \"semantic_type\": \"\",\n        \"description\": \"\"\n      }\n    },\n    {\n      \"column\": \"length\",\n      \"properties\": {\n        \"dtype\": \"number\",\n        \"std\": 92,\n        \"min\": 4,\n        \"max\": 925,\n        \"num_unique_values\": 572,\n        \"samples\": [\n          485,\n          27\n        ],\n        \"semantic_type\": \"\",\n        \"description\": \"\"\n      }\n    }\n  ]\n}"
            }
          },
          "metadata": {},
          "execution_count": 29
        }
      ],
      "source": [
        "new_train_df"
      ]
    },
    {
      "cell_type": "markdown",
      "metadata": {
        "id": "8vBEWpwWeoCw"
      },
      "source": [
        "VOCAB"
      ]
    },
    {
      "cell_type": "code",
      "execution_count": null,
      "metadata": {
        "id": "JGSXj8Dkep2L"
      },
      "outputs": [],
      "source": [
        "vocab = Counter()\n",
        "for text in new_train_df['cleaned_text']:\n",
        "    vocab.update(text)\n",
        "\n",
        "for text in new_val_df['cleaned_text']:\n",
        "    vocab.update(text)\n",
        "\n",
        "for text in new_test_df['cleaned_text']:\n",
        "    vocab.update(text)"
      ]
    },
    {
      "cell_type": "code",
      "execution_count": null,
      "metadata": {
        "id": "fS8YDcFCeyaR"
      },
      "outputs": [],
      "source": [
        "vocab_sorted = vocab.most_common()"
      ]
    },
    {
      "cell_type": "code",
      "execution_count": null,
      "metadata": {
        "id": "NYm3fWi_e2VX"
      },
      "outputs": [],
      "source": [
        "vocab_sorted = ['<pad>'] + [word for word, _ in vocab_sorted]"
      ]
    },
    {
      "cell_type": "code",
      "execution_count": null,
      "metadata": {
        "colab": {
          "base_uri": "https://localhost:8080/"
        },
        "id": "qesiQT0Ke8IJ",
        "outputId": "fd0fbac9-6372-451b-cd6c-e34427e25b60"
      },
      "outputs": [
        {
          "output_type": "execute_result",
          "data": {
            "text/plain": [
              "['<pad>',\n",
              " 'movie',\n",
              " 'film',\n",
              " 'one',\n",
              " 'like',\n",
              " 'good',\n",
              " 'the',\n",
              " 'time',\n",
              " 'even',\n",
              " 'would',\n",
              " 'story',\n",
              " 'really',\n",
              " 'see',\n",
              " 'well',\n",
              " 'much']"
            ]
          },
          "metadata": {},
          "execution_count": 29
        }
      ],
      "source": [
        "vocab_sorted[:15]"
      ]
    },
    {
      "cell_type": "code",
      "execution_count": null,
      "metadata": {
        "colab": {
          "base_uri": "https://localhost:8080/"
        },
        "id": "611m9_8WfJNu",
        "outputId": "e3cbc293-a61d-4618-8ee0-e54afaccbe48"
      },
      "outputs": [
        {
          "output_type": "stream",
          "name": "stdout",
          "text": [
            "74025\n"
          ]
        }
      ],
      "source": [
        "vocab_size = len(vocab_sorted)\n",
        "print(vocab_size)"
      ]
    },
    {
      "cell_type": "code",
      "execution_count": null,
      "metadata": {
        "id": "Z4RR9owwfOSs"
      },
      "outputs": [],
      "source": [
        "word_to_index = {word: index for index, word in enumerate(vocab_sorted)} # enumerated\n",
        "index_to_word = {index: word for index, word in enumerate(vocab_sorted)}"
      ]
    },
    {
      "cell_type": "markdown",
      "metadata": {
        "id": "-LAKEHwIiZu-"
      },
      "source": [
        "PADDING AND TRUNCATION"
      ]
    },
    {
      "cell_type": "code",
      "execution_count": null,
      "metadata": {
        "id": "N7KXPF_MfTR7"
      },
      "outputs": [],
      "source": [
        "def padding_truncated(text_list,max_sequence):\n",
        "    if len(text_list) > max_sequence:\n",
        "        return text_list[:max_sequence]\n",
        "    else:\n",
        "        return text_list + ['<pad>'] * (max_sequence - len(text_list))"
      ]
    },
    {
      "cell_type": "code",
      "execution_count": null,
      "metadata": {
        "id": "MAc9EcdjfWQX"
      },
      "outputs": [],
      "source": [
        "new_train_df['cleaned_text'] = new_train_df['cleaned_text'].apply(lambda x: padding_truncated(x,400))\n",
        "new_val_df['cleaned_text'] = new_val_df['cleaned_text'].apply(lambda x: padding_truncated(x,400))\n",
        "new_test_df['cleaned_text'] = new_test_df['cleaned_text'].apply(lambda x: padding_truncated(x,400))"
      ]
    },
    {
      "cell_type": "code",
      "execution_count": null,
      "metadata": {
        "id": "9vLn85HJfjqn"
      },
      "outputs": [],
      "source": [
        "new_train_df['text_seq'] = new_train_df['cleaned_text'].apply(lambda x: [word_to_index[word] for word in x])\n",
        "new_val_df['text_seq'] = new_val_df['cleaned_text'].apply(lambda x: [word_to_index[word] for word in x])\n",
        "new_test_df['text_seq'] = new_test_df['cleaned_text'].apply(lambda x: [word_to_index[word] for word in x])"
      ]
    },
    {
      "cell_type": "code",
      "execution_count": null,
      "metadata": {
        "colab": {
          "base_uri": "https://localhost:8080/",
          "height": 204
        },
        "id": "5meA6N1yfsAt",
        "outputId": "12666a6a-50e3-47b8-e421-7711ca14d905"
      },
      "outputs": [
        {
          "output_type": "execute_result",
          "data": {
            "text/plain": [
              "       sl_no                                               text  rating  \\\n",
              "7522    5520  Many reviews I've read reveals that most peopl...       9   \n",
              "17493   3244  The effect achieved in this story about a psyc...       3   \n",
              "12260   9786  I really enjoyed the performances of the main ...       8   \n",
              "1275   11148  'Midnight Cowboy' was rated X with the origina...       9   \n",
              "8004    5955  As the maker of \"This Darkness,\" I admit we ne...      10   \n",
              "\n",
              "       label  class                                       text_cleaned  \\\n",
              "7522       1      1  [many, reviews, read, reveals, people, tend, l...   \n",
              "17493      0      0  [effect, achieved, story, psychiatrist, become...   \n",
              "12260      1      1  [really, enjoyed, performances, main, cast, em...   \n",
              "1275       1      1  [midnight, cowboy, rated, original, release, b...   \n",
              "8004       1      1  [maker, this, darkness, admit, neglected, impo...   \n",
              "\n",
              "                                                text_seq  \n",
              "7522   [34, 730, 226, 2536, 17, 2209, 4, 76, 3, 47, 7...  \n",
              "17493  [823, 3158, 10, 3500, 348, 457, 2577, 2560, 72...  \n",
              "12260  [11, 394, 248, 185, 81, 2325, 8977, 7799, 116,...  \n",
              "1275   [2600, 2236, 1015, 100, 645, 56, 54, 284, 30, ...  \n",
              "8004   [2738, 44, 2406, 844, 6757, 553, 45979, 49, 76...  "
            ],
            "text/html": [
              "\n",
              "  <div id=\"df-3d300f94-bab0-40fa-87e3-be22c82dee6f\" class=\"colab-df-container\">\n",
              "    <div>\n",
              "<style scoped>\n",
              "    .dataframe tbody tr th:only-of-type {\n",
              "        vertical-align: middle;\n",
              "    }\n",
              "\n",
              "    .dataframe tbody tr th {\n",
              "        vertical-align: top;\n",
              "    }\n",
              "\n",
              "    .dataframe thead th {\n",
              "        text-align: right;\n",
              "    }\n",
              "</style>\n",
              "<table border=\"1\" class=\"dataframe\">\n",
              "  <thead>\n",
              "    <tr style=\"text-align: right;\">\n",
              "      <th></th>\n",
              "      <th>sl_no</th>\n",
              "      <th>text</th>\n",
              "      <th>rating</th>\n",
              "      <th>label</th>\n",
              "      <th>class</th>\n",
              "      <th>text_cleaned</th>\n",
              "      <th>text_seq</th>\n",
              "    </tr>\n",
              "  </thead>\n",
              "  <tbody>\n",
              "    <tr>\n",
              "      <th>7522</th>\n",
              "      <td>5520</td>\n",
              "      <td>Many reviews I've read reveals that most peopl...</td>\n",
              "      <td>9</td>\n",
              "      <td>1</td>\n",
              "      <td>1</td>\n",
              "      <td>[many, reviews, read, reveals, people, tend, l...</td>\n",
              "      <td>[34, 730, 226, 2536, 17, 2209, 4, 76, 3, 47, 7...</td>\n",
              "    </tr>\n",
              "    <tr>\n",
              "      <th>17493</th>\n",
              "      <td>3244</td>\n",
              "      <td>The effect achieved in this story about a psyc...</td>\n",
              "      <td>3</td>\n",
              "      <td>0</td>\n",
              "      <td>0</td>\n",
              "      <td>[effect, achieved, story, psychiatrist, become...</td>\n",
              "      <td>[823, 3158, 10, 3500, 348, 457, 2577, 2560, 72...</td>\n",
              "    </tr>\n",
              "    <tr>\n",
              "      <th>12260</th>\n",
              "      <td>9786</td>\n",
              "      <td>I really enjoyed the performances of the main ...</td>\n",
              "      <td>8</td>\n",
              "      <td>1</td>\n",
              "      <td>1</td>\n",
              "      <td>[really, enjoyed, performances, main, cast, em...</td>\n",
              "      <td>[11, 394, 248, 185, 81, 2325, 8977, 7799, 116,...</td>\n",
              "    </tr>\n",
              "    <tr>\n",
              "      <th>1275</th>\n",
              "      <td>11148</td>\n",
              "      <td>'Midnight Cowboy' was rated X with the origina...</td>\n",
              "      <td>9</td>\n",
              "      <td>1</td>\n",
              "      <td>1</td>\n",
              "      <td>[midnight, cowboy, rated, original, release, b...</td>\n",
              "      <td>[2600, 2236, 1015, 100, 645, 56, 54, 284, 30, ...</td>\n",
              "    </tr>\n",
              "    <tr>\n",
              "      <th>8004</th>\n",
              "      <td>5955</td>\n",
              "      <td>As the maker of \"This Darkness,\" I admit we ne...</td>\n",
              "      <td>10</td>\n",
              "      <td>1</td>\n",
              "      <td>1</td>\n",
              "      <td>[maker, this, darkness, admit, neglected, impo...</td>\n",
              "      <td>[2738, 44, 2406, 844, 6757, 553, 45979, 49, 76...</td>\n",
              "    </tr>\n",
              "  </tbody>\n",
              "</table>\n",
              "</div>\n",
              "    <div class=\"colab-df-buttons\">\n",
              "\n",
              "  <div class=\"colab-df-container\">\n",
              "    <button class=\"colab-df-convert\" onclick=\"convertToInteractive('df-3d300f94-bab0-40fa-87e3-be22c82dee6f')\"\n",
              "            title=\"Convert this dataframe to an interactive table.\"\n",
              "            style=\"display:none;\">\n",
              "\n",
              "  <svg xmlns=\"http://www.w3.org/2000/svg\" height=\"24px\" viewBox=\"0 -960 960 960\">\n",
              "    <path d=\"M120-120v-720h720v720H120Zm60-500h600v-160H180v160Zm220 220h160v-160H400v160Zm0 220h160v-160H400v160ZM180-400h160v-160H180v160Zm440 0h160v-160H620v160ZM180-180h160v-160H180v160Zm440 0h160v-160H620v160Z\"/>\n",
              "  </svg>\n",
              "    </button>\n",
              "\n",
              "  <style>\n",
              "    .colab-df-container {\n",
              "      display:flex;\n",
              "      gap: 12px;\n",
              "    }\n",
              "\n",
              "    .colab-df-convert {\n",
              "      background-color: #E8F0FE;\n",
              "      border: none;\n",
              "      border-radius: 50%;\n",
              "      cursor: pointer;\n",
              "      display: none;\n",
              "      fill: #1967D2;\n",
              "      height: 32px;\n",
              "      padding: 0 0 0 0;\n",
              "      width: 32px;\n",
              "    }\n",
              "\n",
              "    .colab-df-convert:hover {\n",
              "      background-color: #E2EBFA;\n",
              "      box-shadow: 0px 1px 2px rgba(60, 64, 67, 0.3), 0px 1px 3px 1px rgba(60, 64, 67, 0.15);\n",
              "      fill: #174EA6;\n",
              "    }\n",
              "\n",
              "    .colab-df-buttons div {\n",
              "      margin-bottom: 4px;\n",
              "    }\n",
              "\n",
              "    [theme=dark] .colab-df-convert {\n",
              "      background-color: #3B4455;\n",
              "      fill: #D2E3FC;\n",
              "    }\n",
              "\n",
              "    [theme=dark] .colab-df-convert:hover {\n",
              "      background-color: #434B5C;\n",
              "      box-shadow: 0px 1px 3px 1px rgba(0, 0, 0, 0.15);\n",
              "      filter: drop-shadow(0px 1px 2px rgba(0, 0, 0, 0.3));\n",
              "      fill: #FFFFFF;\n",
              "    }\n",
              "  </style>\n",
              "\n",
              "    <script>\n",
              "      const buttonEl =\n",
              "        document.querySelector('#df-3d300f94-bab0-40fa-87e3-be22c82dee6f button.colab-df-convert');\n",
              "      buttonEl.style.display =\n",
              "        google.colab.kernel.accessAllowed ? 'block' : 'none';\n",
              "\n",
              "      async function convertToInteractive(key) {\n",
              "        const element = document.querySelector('#df-3d300f94-bab0-40fa-87e3-be22c82dee6f');\n",
              "        const dataTable =\n",
              "          await google.colab.kernel.invokeFunction('convertToInteractive',\n",
              "                                                    [key], {});\n",
              "        if (!dataTable) return;\n",
              "\n",
              "        const docLinkHtml = 'Like what you see? Visit the ' +\n",
              "          '<a target=\"_blank\" href=https://colab.research.google.com/notebooks/data_table.ipynb>data table notebook</a>'\n",
              "          + ' to learn more about interactive tables.';\n",
              "        element.innerHTML = '';\n",
              "        dataTable['output_type'] = 'display_data';\n",
              "        await google.colab.output.renderOutput(dataTable, element);\n",
              "        const docLink = document.createElement('div');\n",
              "        docLink.innerHTML = docLinkHtml;\n",
              "        element.appendChild(docLink);\n",
              "      }\n",
              "    </script>\n",
              "  </div>\n",
              "\n",
              "\n",
              "<div id=\"df-570d77f0-23f4-4633-a52d-a21eaffbabb4\">\n",
              "  <button class=\"colab-df-quickchart\" onclick=\"quickchart('df-570d77f0-23f4-4633-a52d-a21eaffbabb4')\"\n",
              "            title=\"Suggest charts\"\n",
              "            style=\"display:none;\">\n",
              "\n",
              "<svg xmlns=\"http://www.w3.org/2000/svg\" height=\"24px\"viewBox=\"0 0 24 24\"\n",
              "     width=\"24px\">\n",
              "    <g>\n",
              "        <path d=\"M19 3H5c-1.1 0-2 .9-2 2v14c0 1.1.9 2 2 2h14c1.1 0 2-.9 2-2V5c0-1.1-.9-2-2-2zM9 17H7v-7h2v7zm4 0h-2V7h2v10zm4 0h-2v-4h2v4z\"/>\n",
              "    </g>\n",
              "</svg>\n",
              "  </button>\n",
              "\n",
              "<style>\n",
              "  .colab-df-quickchart {\n",
              "      --bg-color: #E8F0FE;\n",
              "      --fill-color: #1967D2;\n",
              "      --hover-bg-color: #E2EBFA;\n",
              "      --hover-fill-color: #174EA6;\n",
              "      --disabled-fill-color: #AAA;\n",
              "      --disabled-bg-color: #DDD;\n",
              "  }\n",
              "\n",
              "  [theme=dark] .colab-df-quickchart {\n",
              "      --bg-color: #3B4455;\n",
              "      --fill-color: #D2E3FC;\n",
              "      --hover-bg-color: #434B5C;\n",
              "      --hover-fill-color: #FFFFFF;\n",
              "      --disabled-bg-color: #3B4455;\n",
              "      --disabled-fill-color: #666;\n",
              "  }\n",
              "\n",
              "  .colab-df-quickchart {\n",
              "    background-color: var(--bg-color);\n",
              "    border: none;\n",
              "    border-radius: 50%;\n",
              "    cursor: pointer;\n",
              "    display: none;\n",
              "    fill: var(--fill-color);\n",
              "    height: 32px;\n",
              "    padding: 0;\n",
              "    width: 32px;\n",
              "  }\n",
              "\n",
              "  .colab-df-quickchart:hover {\n",
              "    background-color: var(--hover-bg-color);\n",
              "    box-shadow: 0 1px 2px rgba(60, 64, 67, 0.3), 0 1px 3px 1px rgba(60, 64, 67, 0.15);\n",
              "    fill: var(--button-hover-fill-color);\n",
              "  }\n",
              "\n",
              "  .colab-df-quickchart-complete:disabled,\n",
              "  .colab-df-quickchart-complete:disabled:hover {\n",
              "    background-color: var(--disabled-bg-color);\n",
              "    fill: var(--disabled-fill-color);\n",
              "    box-shadow: none;\n",
              "  }\n",
              "\n",
              "  .colab-df-spinner {\n",
              "    border: 2px solid var(--fill-color);\n",
              "    border-color: transparent;\n",
              "    border-bottom-color: var(--fill-color);\n",
              "    animation:\n",
              "      spin 1s steps(1) infinite;\n",
              "  }\n",
              "\n",
              "  @keyframes spin {\n",
              "    0% {\n",
              "      border-color: transparent;\n",
              "      border-bottom-color: var(--fill-color);\n",
              "      border-left-color: var(--fill-color);\n",
              "    }\n",
              "    20% {\n",
              "      border-color: transparent;\n",
              "      border-left-color: var(--fill-color);\n",
              "      border-top-color: var(--fill-color);\n",
              "    }\n",
              "    30% {\n",
              "      border-color: transparent;\n",
              "      border-left-color: var(--fill-color);\n",
              "      border-top-color: var(--fill-color);\n",
              "      border-right-color: var(--fill-color);\n",
              "    }\n",
              "    40% {\n",
              "      border-color: transparent;\n",
              "      border-right-color: var(--fill-color);\n",
              "      border-top-color: var(--fill-color);\n",
              "    }\n",
              "    60% {\n",
              "      border-color: transparent;\n",
              "      border-right-color: var(--fill-color);\n",
              "    }\n",
              "    80% {\n",
              "      border-color: transparent;\n",
              "      border-right-color: var(--fill-color);\n",
              "      border-bottom-color: var(--fill-color);\n",
              "    }\n",
              "    90% {\n",
              "      border-color: transparent;\n",
              "      border-bottom-color: var(--fill-color);\n",
              "    }\n",
              "  }\n",
              "</style>\n",
              "\n",
              "  <script>\n",
              "    async function quickchart(key) {\n",
              "      const quickchartButtonEl =\n",
              "        document.querySelector('#' + key + ' button');\n",
              "      quickchartButtonEl.disabled = true;  // To prevent multiple clicks.\n",
              "      quickchartButtonEl.classList.add('colab-df-spinner');\n",
              "      try {\n",
              "        const charts = await google.colab.kernel.invokeFunction(\n",
              "            'suggestCharts', [key], {});\n",
              "      } catch (error) {\n",
              "        console.error('Error during call to suggestCharts:', error);\n",
              "      }\n",
              "      quickchartButtonEl.classList.remove('colab-df-spinner');\n",
              "      quickchartButtonEl.classList.add('colab-df-quickchart-complete');\n",
              "    }\n",
              "    (() => {\n",
              "      let quickchartButtonEl =\n",
              "        document.querySelector('#df-570d77f0-23f4-4633-a52d-a21eaffbabb4 button');\n",
              "      quickchartButtonEl.style.display =\n",
              "        google.colab.kernel.accessAllowed ? 'block' : 'none';\n",
              "    })();\n",
              "  </script>\n",
              "</div>\n",
              "\n",
              "    </div>\n",
              "  </div>\n"
            ],
            "application/vnd.google.colaboratory.intrinsic+json": {
              "type": "dataframe",
              "variable_name": "new_train_df",
              "summary": "{\n  \"name\": \"new_train_df\",\n  \"rows\": 20000,\n  \"fields\": [\n    {\n      \"column\": \"sl_no\",\n      \"properties\": {\n        \"dtype\": \"number\",\n        \"std\": 3609,\n        \"min\": 0,\n        \"max\": 12499,\n        \"num_unique_values\": 11998,\n        \"samples\": [\n          9687,\n          2791,\n          762\n        ],\n        \"semantic_type\": \"\",\n        \"description\": \"\"\n      }\n    },\n    {\n      \"column\": \"text\",\n      \"properties\": {\n        \"dtype\": \"string\",\n        \"num_unique_values\": 19933,\n        \"samples\": [\n          \"Americans have the attention span of a fruit fly and if something does not happen within the span of a typical commercial, we tend to lose interest really fast.<br /><br />I found out an exciting fact from this film: someone has to paint high tension utility poles and do it on a schedule! And guess what, they really would like to be doing something else (the viewer has similar feelings).<br /><br />Surprisingly, when I was bored watching late night infomercials and decided to actually watch this film, I found the characters to be interesting and highly engaging.<br /><br />I just don't usually watch that much late night TV, so I can't recommend this film, unless watching paint dry is your idea of an exciting two hours out of your life.\",\n          \"The Haunting is a film that boasts a really creepy house, good effects work and sound work, a cast that seems to believe that everything around them is real and that house. There are scenes that make you jump, and the sinister aspects of what went on at Hill House in the past, I found interesting. There are genuinely creepy moments in the film and I liked the way the ghosts manifested themselves in sheets, curtains and the house itself. Jerry Goldsmith's score gave it the right atmosphere and the sound design had voices popping up around you. What I wish could've happened is for something a little more intense. Jan De Bont had a PG-13 rating to contend with and I think that he held back a little too much. Poltergeist scared me silly when I saw it many years ago, and it still holds up. The Haunting could've used a few more scenes of pure terror. The ending was for me, a little anticlimactic. Overall, I enjoyed it. The acting is good and there are moments that make you jump. I just wish it scared me more.\",\n          \"Although I rated this movie a 2 for showing a complete lack of effort in trying to create a quality horror film it was a 10 on the unintentional funny scale. I couldn't figure out what was going on in the movie or who the people were but I didn't care because I knew every scene was going to have something to make me cry with laughter. Dialogue is a minimum throughout the movie but I believe this is because they started filming without a script. The fact that there is no plot line makes the movie extremely versatile. It doesn't matter if you sit down and watch the movie from beginning to end or if you watch it in rewind you will be confused with enjoyment. I particularly like the scene in which the inmates are taking turns running around outside beating each other with sticks. I believe the doctor refers to this as treatment. Genius!\"\n        ],\n        \"semantic_type\": \"\",\n        \"description\": \"\"\n      }\n    },\n    {\n      \"column\": \"rating\",\n      \"properties\": {\n        \"dtype\": \"number\",\n        \"std\": 3,\n        \"min\": 1,\n        \"max\": 10,\n        \"num_unique_values\": 8,\n        \"samples\": [\n          3,\n          7,\n          9\n        ],\n        \"semantic_type\": \"\",\n        \"description\": \"\"\n      }\n    },\n    {\n      \"column\": \"label\",\n      \"properties\": {\n        \"dtype\": \"number\",\n        \"std\": 0,\n        \"min\": 0,\n        \"max\": 1,\n        \"num_unique_values\": 2,\n        \"samples\": [\n          0,\n          1\n        ],\n        \"semantic_type\": \"\",\n        \"description\": \"\"\n      }\n    },\n    {\n      \"column\": \"class\",\n      \"properties\": {\n        \"dtype\": \"number\",\n        \"std\": 0,\n        \"min\": 0,\n        \"max\": 1,\n        \"num_unique_values\": 2,\n        \"samples\": [\n          0,\n          1\n        ],\n        \"semantic_type\": \"\",\n        \"description\": \"\"\n      }\n    },\n    {\n      \"column\": \"text_cleaned\",\n      \"properties\": {\n        \"dtype\": \"object\",\n        \"semantic_type\": \"\",\n        \"description\": \"\"\n      }\n    },\n    {\n      \"column\": \"text_seq\",\n      \"properties\": {\n        \"dtype\": \"object\",\n        \"semantic_type\": \"\",\n        \"description\": \"\"\n      }\n    }\n  ]\n}"
            }
          },
          "metadata": {},
          "execution_count": 35
        }
      ],
      "source": [
        "new_train_df.tail()"
      ]
    },
    {
      "cell_type": "code",
      "execution_count": null,
      "metadata": {
        "id": "o4nm9Fc1fxnV"
      },
      "outputs": [],
      "source": [
        "train_data = new_train_df[['text_seq', 'label']]\n",
        "val_data = new_val_df[['text_seq', 'label']]\n",
        "test_data = new_test_df[['text_seq', 'label']]"
      ]
    },
    {
      "cell_type": "markdown",
      "metadata": {
        "id": "uAO9PZvsiL1L"
      },
      "source": [
        "CREATE DATASET TENSOR"
      ]
    },
    {
      "cell_type": "code",
      "execution_count": null,
      "metadata": {
        "id": "ExN5GSDWhAEq"
      },
      "outputs": [],
      "source": [
        "import torch\n",
        "import torch.nn as nn\n",
        "import torch.optim as optim\n",
        "from torch.utils.data import Dataset, DataLoader\n",
        "from sklearn.model_selection import train_test_split\n",
        "from sklearn.metrics import accuracy_score, classification_report, confusion_matrix\n",
        "import warnings\n",
        "warnings.filterwarnings('ignore')"
      ]
    },
    {
      "cell_type": "code",
      "execution_count": null,
      "metadata": {
        "id": "qMnvW9Hsf4RQ"
      },
      "outputs": [],
      "source": [
        "class Sentiment_Data_set(Dataset):\n",
        "    def __init__(self, data):\n",
        "        self.data = data\n",
        "\n",
        "    def __len__(self):\n",
        "        return len(self.data)\n",
        "\n",
        "    def __getitem__(self, idx):\n",
        "        text_seq = self.data.iloc[idx]['text_seq']\n",
        "        label = self.data.iloc[idx]['label']\n",
        "        return torch.tensor(text_seq), torch.tensor(label)"
      ]
    },
    {
      "cell_type": "code",
      "execution_count": null,
      "metadata": {
        "id": "N6Bh-orUgSZN"
      },
      "outputs": [],
      "source": [
        "train_dataset = Sentiment_Data_set(train_data)\n",
        "val_dataset = Sentiment_Data_set(val_data)\n",
        "test_dataset = Sentiment_Data_set(test_data)"
      ]
    },
    {
      "cell_type": "code",
      "execution_count": null,
      "metadata": {
        "colab": {
          "base_uri": "https://localhost:8080/"
        },
        "id": "cYyKcjk_gmyK",
        "outputId": "6aa1afdb-6bad-4043-bb28-cbeb700e4358"
      },
      "outputs": [
        {
          "output_type": "execute_result",
          "data": {
            "text/plain": [
              "(tensor([   34,   730,   226,  2536,    17,  2209,     4,    76,     3,    47,\n",
              "            76,    31,   127,   500,  1833,    76,     3,   149,    88,   121,\n",
              "            14,   161,    74,   168,   646,   674,  2198,  7330,  1475,   168,\n",
              "          1965,     2,  1911,   168,  1851,  2243,    56,  2443,  2576,  6568,\n",
              "          2471,    76,  8031,  8343,   523,  3904,    76,    31,  2198,  3300,\n",
              "          8976,   261,  2400, 19647,  1482,  2085,  2283,  1312,   701, 45975,\n",
              "          2842,  7672, 16931,   537,  1746, 45976,   199,  1090,  2472,  2198,\n",
              "         37044, 45977,  3685,    17,  1641, 15494,   124,   344,   128,  3937,\n",
              "          5244, 28445,   347,   356,  2198,    35,    57,   179,    17,  2638,\n",
              "            76,     3,    76,    31,     6,   530, 14909,  1482,    18, 22123,\n",
              "           117,  2198,    76,     3,  2198,    76,    31,   758,    92,   227,\n",
              "            31,  1295,   182,   392,  2283,  6845,  6662, 12218,  6662, 12218,\n",
              "          2198,   466,   438,  5076,   466,  7546, 11222,  2198,    76,     3,\n",
              "          1103, 10239,  3839,  2198,    76,    31,  8032,  8976,    25,   234,\n",
              "          8509,    35,   880,  2349, 37045,    51,  3377,   531,  1061,  6568,\n",
              "          2471, 14910,   855,  3875,  4424,  2947,  1280,    28,   737,  8820,\n",
              "          6569, 15495, 10464,   253,  4311,  7027, 10950,  4036, 13394,  1061,\n",
              "            80,   215,   711,    80,  2969, 37046,  4800, 45978, 16173,   138,\n",
              "           139,   190,  7331,   158,   311,    96,    54,   683,  5777,    14,\n",
              "          4587,  1940,  1012,  2198,    49,  5284,    35,   190,  2085,  1057,\n",
              "           311,   146,   266,   462,   889,    72,   494,   108,   260,   181,\n",
              "            17,  1090,  2472,   598,   146,   166, 37044,  4936,    96,   198,\n",
              "          2143,   196,  1192,    17,  8344,  7435,  3685,  8821,   487,  4036,\n",
              "          4425,   983,    49,   535,   227, 13395,  3999,  7547,    17,  9547,\n",
              "           229,   648,     1,    29,   999, 16932,     0,     0,     0,     0,\n",
              "             0,     0,     0,     0,     0,     0,     0,     0,     0,     0,\n",
              "             0,     0,     0,     0,     0,     0,     0,     0,     0,     0,\n",
              "             0,     0,     0,     0,     0,     0,     0,     0,     0,     0,\n",
              "             0,     0,     0,     0,     0,     0,     0,     0,     0,     0,\n",
              "             0,     0,     0,     0,     0,     0,     0,     0,     0,     0,\n",
              "             0,     0,     0,     0,     0,     0,     0,     0,     0,     0,\n",
              "             0,     0,     0,     0,     0,     0,     0,     0,     0,     0,\n",
              "             0,     0,     0,     0,     0,     0,     0,     0,     0,     0,\n",
              "             0,     0,     0,     0,     0,     0,     0,     0,     0,     0,\n",
              "             0,     0,     0,     0,     0,     0,     0,     0,     0,     0,\n",
              "             0,     0,     0,     0,     0,     0,     0,     0,     0,     0,\n",
              "             0,     0,     0,     0,     0,     0,     0,     0,     0,     0,\n",
              "             0,     0,     0,     0,     0,     0,     0,     0,     0,     0,\n",
              "             0,     0,     0,     0,     0,     0,     0,     0,     0,     0,\n",
              "             0,     0,     0,     0,     0,     0,     0,     0,     0,     0]),\n",
              " tensor(1))"
            ]
          },
          "metadata": {},
          "execution_count": 40
        }
      ],
      "source": [
        "train_dataset[0]"
      ]
    },
    {
      "cell_type": "code",
      "execution_count": null,
      "metadata": {
        "id": "EsAm_2fKgsj8"
      },
      "outputs": [],
      "source": [
        "train_dataloader = DataLoader(train_dataset, batch_size=32, shuffle=True)\n",
        "val_dataloader = DataLoader(val_dataset, batch_size=32, shuffle=False)\n",
        "test_dataloader = DataLoader(test_dataset, batch_size=32, shuffle=False)"
      ]
    },
    {
      "cell_type": "code",
      "execution_count": null,
      "metadata": {
        "colab": {
          "base_uri": "https://localhost:8080/"
        },
        "id": "RDEVYj1ChLg2",
        "outputId": "d6ce9900-0e6c-451a-871e-f99523aa3cb9"
      },
      "outputs": [
        {
          "output_type": "stream",
          "name": "stdout",
          "text": [
            "cuda\n"
          ]
        }
      ],
      "source": [
        "device = torch.device(\"cuda\" if torch.cuda.is_available() else \"cpu\")\n",
        "print(device)"
      ]
    },
    {
      "cell_type": "markdown",
      "source": [
        "BUILD MODEL"
      ],
      "metadata": {
        "id": "k9O47Uk4zE7X"
      }
    },
    {
      "cell_type": "code",
      "execution_count": null,
      "metadata": {
        "id": "dl-K0eJFh4nT"
      },
      "outputs": [],
      "source": [
        "class lstm_model(nn.Module):\n",
        "    def __init__(self, vocab_size, embedding_dim, hidden_dim, output_dim, n_layers, bidirectional, dropout):\n",
        "        super().__init__()\n",
        "        self.embedding = nn.Embedding(vocab_size, embedding_dim)\n",
        "        self.hidden_dim = hidden_dim\n",
        "        self.n_layers = n_layers\n",
        "        self.bidirectional = bidirectional\n",
        "        self.lstm = nn.LSTM(\n",
        "            embedding_dim,\n",
        "            hidden_dim,\n",
        "            num_layers=n_layers,\n",
        "            bidirectional=bidirectional,\n",
        "            batch_first=True,\n",
        "        )\n",
        "        self.dropout = nn.Dropout(dropout)  # Dropout layer\n",
        "        self.fc = nn.Linear(hidden_dim * 2 if bidirectional else hidden_dim, output_dim)\n",
        "        self.sigmoid = nn.Sigmoid()\n",
        "\n",
        "    def init_hidden(self, batch_size):\n",
        "        factor = 2 if self.bidirectional else 1\n",
        "        h0 = torch.zeros(self.n_layers * factor, batch_size, self.hidden_dim).to(device)\n",
        "        c0 = torch.zeros(self.n_layers * factor, batch_size, self.hidden_dim).to(device)\n",
        "        hidden = (h0, c0)\n",
        "        return hidden\n",
        "\n",
        "    def forward(self, x, hidden):\n",
        "        batch_size = x.size(0)\n",
        "        embedded = self.embedding(x)  # Embedding layer\n",
        "        lstm_out, hidden = self.lstm(embedded, hidden)  # LSTM layer\n",
        "\n",
        "        lstm_out = self.dropout(lstm_out)\n",
        "\n",
        "        lstm_out = lstm_out.contiguous().view(-1, self.hidden_dim * 2 if self.bidirectional else self.hidden_dim)\n",
        "\n",
        "        out = self.fc(lstm_out) # flatten\n",
        "\n",
        "        sig_out = self.sigmoid(out) # sigmoid activation\n",
        "\n",
        "        sig_out = sig_out.view(batch_size, -1)\n",
        "        sig_out = sig_out[:, -1]\n",
        "\n",
        "        return sig_out, hidden"
      ]
    },
    {
      "cell_type": "code",
      "execution_count": null,
      "metadata": {
        "id": "H_gSzSLqh6tp"
      },
      "outputs": [],
      "source": [
        "def acc(pred, label):\n",
        "    pred = torch.round(pred.squeeze())\n",
        "    return torch.sum(pred == label.squeeze()).item()"
      ]
    },
    {
      "cell_type": "code",
      "execution_count": null,
      "metadata": {
        "id": "7iw6VEODh_8e"
      },
      "outputs": [],
      "source": [
        "def binary_accuracy(preds, y):\n",
        "    #round predictions to the closest integer\n",
        "    rounded_preds = torch.round(preds)\n",
        "\n",
        "    correct = (rounded_preds == y).float()\n",
        "    acc = correct.sum() / len(correct)\n",
        "    return acc"
      ]
    },
    {
      "cell_type": "markdown",
      "metadata": {
        "id": "Pj2dJH1Pijcp"
      },
      "source": [
        "UNIDIRECTIONAL LSTM"
      ]
    },
    {
      "cell_type": "code",
      "execution_count": null,
      "metadata": {
        "colab": {
          "base_uri": "https://localhost:8080/"
        },
        "id": "vtwCeIm9ipAc",
        "outputId": "4995a397-cd3d-4838-9ea2-4e26ba4746db"
      },
      "outputs": [
        {
          "output_type": "stream",
          "name": "stdout",
          "text": [
            "lstm_model(\n",
            "  (embedding): Embedding(74025, 128)\n",
            "  (lstm): LSTM(128, 256, num_layers=2, batch_first=True)\n",
            "  (dropout): Dropout(p=0.5, inplace=False)\n",
            "  (fc): Linear(in_features=256, out_features=1, bias=True)\n",
            "  (sigmoid): Sigmoid()\n",
            ")\n"
          ]
        }
      ],
      "source": [
        "embedding_dim = 128\n",
        "hidden_dim = 256\n",
        "output_dim = 1\n",
        "n_layers = 2\n",
        "bidirectional = False\n",
        "dropout = 0.5\n",
        "\n",
        "model = lstm_model(vocab_size, embedding_dim, hidden_dim, output_dim, n_layers, bidirectional, dropout)\n",
        "model = model.to(device)\n",
        "\n",
        "print(model)"
      ]
    },
    {
      "cell_type": "code",
      "execution_count": null,
      "metadata": {
        "id": "Jon6bZQAiuZz"
      },
      "outputs": [],
      "source": [
        "optimizer = optim.Adam(model.parameters(), lr=0.001)\n",
        "criterion = nn.BCELoss()"
      ]
    },
    {
      "cell_type": "code",
      "execution_count": null,
      "metadata": {
        "id": "rAeozzrPix62"
      },
      "outputs": [],
      "source": [
        "EPOCHS = 15\n",
        "train_loss_list = []\n",
        "train_acc_list = []\n",
        "val_loss_list = []\n",
        "val_acc_list = []"
      ]
    },
    {
      "cell_type": "code",
      "execution_count": null,
      "metadata": {
        "colab": {
          "base_uri": "https://localhost:8080/"
        },
        "id": "bt3Z9pGoi6qN",
        "outputId": "a27ad532-2b71-4929-c260-114c54be16aa"
      },
      "outputs": [
        {
          "output_type": "stream",
          "name": "stderr",
          "text": [
            "  7%|▋         | 1/15 [00:28<06:37, 28.40s/it]"
          ]
        },
        {
          "output_type": "stream",
          "name": "stdout",
          "text": [
            "Epoch: 1, Train Loss: 0.6944, Train Acc: 49.3450, Val Loss: 0.6927, Val Acc: 50.2373\n"
          ]
        },
        {
          "output_type": "stream",
          "name": "stderr",
          "text": [
            "\r 13%|█▎        | 2/15 [00:55<06:01, 27.78s/it]"
          ]
        },
        {
          "output_type": "stream",
          "name": "stdout",
          "text": [
            "Epoch: 2, Train Loss: 0.6932, Train Acc: 50.1150, Val Loss: 0.6932, Val Acc: 49.9209\n"
          ]
        },
        {
          "output_type": "stream",
          "name": "stderr",
          "text": [
            "\r 20%|██        | 3/15 [01:24<05:37, 28.10s/it]"
          ]
        },
        {
          "output_type": "stream",
          "name": "stdout",
          "text": [
            "Epoch: 3, Train Loss: 0.6935, Train Acc: 50.2500, Val Loss: 0.6933, Val Acc: 50.3560\n"
          ]
        },
        {
          "output_type": "stream",
          "name": "stderr",
          "text": [
            "\r 27%|██▋       | 4/15 [01:53<05:12, 28.44s/it]"
          ]
        },
        {
          "output_type": "stream",
          "name": "stdout",
          "text": [
            "Epoch: 4, Train Loss: 0.6917, Train Acc: 50.3550, Val Loss: 0.6969, Val Acc: 50.2373\n"
          ]
        },
        {
          "output_type": "stream",
          "name": "stderr",
          "text": [
            "\r 33%|███▎      | 5/15 [02:22<04:46, 28.65s/it]"
          ]
        },
        {
          "output_type": "stream",
          "name": "stdout",
          "text": [
            "Epoch: 5, Train Loss: 0.6855, Train Acc: 50.6800, Val Loss: 0.6855, Val Acc: 57.3180\n"
          ]
        },
        {
          "output_type": "stream",
          "name": "stderr",
          "text": [
            "\r 40%|████      | 6/15 [02:51<04:18, 28.71s/it]"
          ]
        },
        {
          "output_type": "stream",
          "name": "stdout",
          "text": [
            "Epoch: 6, Train Loss: 0.6768, Train Acc: 53.4150, Val Loss: 0.7023, Val Acc: 50.2373\n"
          ]
        },
        {
          "output_type": "stream",
          "name": "stderr",
          "text": [
            "\r 47%|████▋     | 7/15 [03:20<03:50, 28.83s/it]"
          ]
        },
        {
          "output_type": "stream",
          "name": "stdout",
          "text": [
            "Epoch: 7, Train Loss: 0.6726, Train Acc: 53.1300, Val Loss: 0.7187, Val Acc: 54.1139\n"
          ]
        },
        {
          "output_type": "stream",
          "name": "stderr",
          "text": [
            "\r 53%|█████▎    | 8/15 [03:49<03:22, 28.98s/it]"
          ]
        },
        {
          "output_type": "stream",
          "name": "stdout",
          "text": [
            "Epoch: 8, Train Loss: 0.5813, Train Acc: 69.4800, Val Loss: 0.4546, Val Acc: 80.8149\n"
          ]
        },
        {
          "output_type": "stream",
          "name": "stderr",
          "text": [
            "\r 60%|██████    | 9/15 [04:18<02:54, 29.04s/it]"
          ]
        },
        {
          "output_type": "stream",
          "name": "stdout",
          "text": [
            "Epoch: 9, Train Loss: 0.3322, Train Acc: 87.0950, Val Loss: 0.4020, Val Acc: 84.2563\n"
          ]
        },
        {
          "output_type": "stream",
          "name": "stderr",
          "text": [
            "\r 67%|██████▋   | 10/15 [04:47<02:25, 29.13s/it]"
          ]
        },
        {
          "output_type": "stream",
          "name": "stdout",
          "text": [
            "Epoch: 10, Train Loss: 0.2007, Train Acc: 93.4250, Val Loss: 0.3917, Val Acc: 85.9573\n"
          ]
        },
        {
          "output_type": "stream",
          "name": "stderr",
          "text": [
            "\r 73%|███████▎  | 11/15 [05:16<01:56, 29.10s/it]"
          ]
        },
        {
          "output_type": "stream",
          "name": "stdout",
          "text": [
            "Epoch: 11, Train Loss: 0.1134, Train Acc: 96.8850, Val Loss: 0.4986, Val Acc: 84.7706\n"
          ]
        },
        {
          "output_type": "stream",
          "name": "stderr",
          "text": [
            "\r 80%|████████  | 12/15 [05:46<01:27, 29.11s/it]"
          ]
        },
        {
          "output_type": "stream",
          "name": "stdout",
          "text": [
            "Epoch: 12, Train Loss: 0.0679, Train Acc: 98.4650, Val Loss: 0.5958, Val Acc: 84.5728\n"
          ]
        },
        {
          "output_type": "stream",
          "name": "stderr",
          "text": [
            "\r 87%|████████▋ | 13/15 [06:15<00:58, 29.10s/it]"
          ]
        },
        {
          "output_type": "stream",
          "name": "stdout",
          "text": [
            "Epoch: 13, Train Loss: 0.0504, Train Acc: 98.9750, Val Loss: 0.5959, Val Acc: 84.8497\n"
          ]
        },
        {
          "output_type": "stream",
          "name": "stderr",
          "text": [
            "\r 93%|█████████▎| 14/15 [06:44<00:29, 29.07s/it]"
          ]
        },
        {
          "output_type": "stream",
          "name": "stdout",
          "text": [
            "Epoch: 14, Train Loss: 0.0456, Train Acc: 99.1250, Val Loss: 0.6742, Val Acc: 84.2168\n"
          ]
        },
        {
          "output_type": "stream",
          "name": "stderr",
          "text": [
            "100%|██████████| 15/15 [07:13<00:00, 28.89s/it]"
          ]
        },
        {
          "output_type": "stream",
          "name": "stdout",
          "text": [
            "Epoch: 15, Train Loss: 0.0411, Train Acc: 99.2000, Val Loss: 0.6055, Val Acc: 84.8101\n"
          ]
        },
        {
          "output_type": "stream",
          "name": "stderr",
          "text": [
            "\n"
          ]
        }
      ],
      "source": [
        "for epoch in tqdm(range(EPOCHS)):\n",
        "    model.train()\n",
        "    train_loss = 0.0\n",
        "    train_acc = 0.0\n",
        "    for text_seq, label in train_dataloader:\n",
        "        text_seq, label = text_seq.to(device), label.to(device)\n",
        "        hidden = model.init_hidden(text_seq.size(0))\n",
        "        optimizer.zero_grad()\n",
        "        output, _ = model(text_seq, hidden)\n",
        "        loss = criterion(output, label.float())\n",
        "        loss.backward()\n",
        "        optimizer.step()\n",
        "        train_loss += loss.item()\n",
        "        train_acc += binary_accuracy(output, label)\n",
        "\n",
        "    model.eval()\n",
        "    val_loss = 0.0\n",
        "    val_acc = 0.0\n",
        "    with torch.no_grad():\n",
        "        for text_seq, label in val_dataloader:\n",
        "            text_seq, label = text_seq.to(device), label.to(device)\n",
        "            hidden = model.init_hidden(text_seq.size(0))\n",
        "            output, _ = model(text_seq, hidden)\n",
        "            loss = criterion(output, label.float())\n",
        "            val_loss += loss.item()\n",
        "            val_acc += binary_accuracy(output, label)\n",
        "\n",
        "    train_loss /= len(train_dataloader)\n",
        "    train_acc /= len(train_dataloader)\n",
        "    val_loss /= len(val_dataloader)\n",
        "    val_acc /= len(val_dataloader)\n",
        "    train_loss_list.append(train_loss)\n",
        "    train_acc_list.append(train_acc)\n",
        "    val_loss_list.append(val_loss)\n",
        "    val_acc_list.append(val_acc)\n",
        "    print(f'Epoch: {epoch+1}, Train Loss: {train_loss:.4f}, Train Acc: {train_acc*100:.4f}, Val Loss: {val_loss:.4f}, Val Acc: {val_acc*100:.4f}')"
      ]
    },
    {
      "cell_type": "code",
      "source": [
        "plt.figure(figsize=(10,5))\n",
        "plt.plot(train_loss_list, label='Training_Loss')\n",
        "plt.plot(val_loss_list, label='Validation_Loss')\n",
        "plt.xlabel('Epochs')\n",
        "plt.ylabel('Losses')\n",
        "plt.title('Training & Validation Loss')\n",
        "plt.show()"
      ],
      "metadata": {
        "colab": {
          "base_uri": "https://localhost:8080/",
          "height": 487
        },
        "id": "U_8PtkvfGpxX",
        "outputId": "db5f5554-c367-4b60-c8f2-b4267684b52c"
      },
      "execution_count": null,
      "outputs": [
        {
          "output_type": "display_data",
          "data": {
            "text/plain": [
              "<Figure size 1000x500 with 1 Axes>"
            ],
            "image/png": "[encoded data removed]"
          },
          "metadata": {}
        }
      ]
    },
    {
      "cell_type": "code",
      "source": [
        "train_acc_list = [acc.cpu().numpy() for acc in train_acc_list] # GPU tensor\n",
        "val_acc_list = [acc.cpu().numpy() for acc in val_acc_list]"
      ],
      "metadata": {
        "id": "PShpGrGwGwR_"
      },
      "execution_count": null,
      "outputs": []
    },
    {
      "cell_type": "code",
      "source": [
        "plt.figure(figsize=(10,5))\n",
        "plt.plot(val_acc_list, label='Validation_Accuracy')\n",
        "plt.plot(train_acc_list, label='Training_Accuracy')\n",
        "\n",
        "plt.xlabel('Epoch')\n",
        "plt.ylabel('Accuracy')\n",
        "plt.title('Training & Validation Accuracy')\n",
        "plt.show()"
      ],
      "metadata": {
        "colab": {
          "base_uri": "https://localhost:8080/",
          "height": 487
        },
        "id": "SII3CmSYGzCK",
        "outputId": "56842ef9-6965-4fbc-a120-3107ccc4464c"
      },
      "execution_count": null,
      "outputs": [
        {
          "output_type": "display_data",
          "data": {
            "text/plain": [
              "<Figure size 1000x500 with 1 Axes>"
            ],
            "image/png": "[encoded data removed]"
          },
          "metadata": {}
        }
      ]
    },
    {
      "cell_type": "code",
      "source": [
        "model.eval()\n",
        "test_loss = 0.0\n",
        "test_acc = 0.0\n",
        "with torch.no_grad():\n",
        "    for text_seq, label in test_dataloader:\n",
        "        text_seq, label = text_seq.to(device), label.to(device)\n",
        "        hidden = model.init_hidden(text_seq.size(0))\n",
        "        output, _ = model(text_seq, hidden)\n",
        "        loss = criterion(output, label.float())\n",
        "        test_loss += loss.item()\n",
        "        test_acc += binary_accuracy(output, label)\n",
        "\n",
        "test_loss /= len(test_dataloader)\n",
        "test_acc /= len(test_dataloader)\n",
        "print(f'Test loss is {test_loss}')\n",
        "print(f'Test accuracy is {test_acc}')"
      ],
      "metadata": {
        "colab": {
          "base_uri": "https://localhost:8080/"
        },
        "id": "SfoUQYT_G4T-",
        "outputId": "f05e5582-0c26-453a-acdc-b6c66c5d9c81"
      },
      "execution_count": null,
      "outputs": [
        {
          "output_type": "stream",
          "name": "stdout",
          "text": [
            "Test loss is 0.791201567748868\n",
            "Test accuracy is 0.8425633311271667\n"
          ]
        }
      ]
    },
    {
      "cell_type": "code",
      "source": [
        "model.eval()\n",
        "all_preds = []\n",
        "all_labels = []\n",
        "\n",
        "with torch.no_grad():\n",
        "    for text_seq, label in test_dataloader:\n",
        "        text_seq, label = text_seq.to(device), label.to(device)\n",
        "        hidden = model.init_hidden(text_seq.size(0))\n",
        "\n",
        "        output, _ = model(text_seq, hidden)\n",
        "\n",
        "        preds = (output > 0.5).float()\n",
        "\n",
        "        all_preds.extend(preds.cpu().numpy())\n",
        "        all_labels.extend(label.cpu().numpy())\n",
        "\n",
        "all_preds = np.array(all_preds).flatten()\n",
        "all_labels = np.array(all_labels).flatten()\n",
        "\n",
        "cm = confusion_matrix(all_labels, all_preds)"
      ],
      "metadata": {
        "id": "bxizeedsG-Zp"
      },
      "execution_count": null,
      "outputs": []
    },
    {
      "cell_type": "code",
      "source": [
        "sns.heatmap(cm,fmt='d',cmap='Reds',annot=True)\n",
        "plt.xlabel('Predictions')\n",
        "plt.ylabel('True Values')\n",
        "plt.title('LSTM Confusion Matrix')\n",
        "plt.show()"
      ],
      "metadata": {
        "colab": {
          "base_uri": "https://localhost:8080/",
          "height": 472
        },
        "id": "XJ1U7y8qHCV7",
        "outputId": "64d423ec-b049-4f15-f1eb-04bc7d40f6e7"
      },
      "execution_count": null,
      "outputs": [
        {
          "output_type": "display_data",
          "data": {
            "text/plain": [
              "<Figure size 640x480 with 2 Axes>"
            ],
            "image/png": "[encoded data removed]"
          },
          "metadata": {}
        }
      ]
    },
    {
      "cell_type": "code",
      "source": [
        "UniLSTM_ClassificationReport = classification_report(all_labels,all_preds)\n",
        "print('Classification Report of LSTM Model: \\n', UniLSTM_ClassificationReport)"
      ],
      "metadata": {
        "colab": {
          "base_uri": "https://localhost:8080/"
        },
        "id": "OGCodcWxHHKf",
        "outputId": "a16f2de5-41d2-4752-f08e-99e4698c48f1"
      },
      "execution_count": null,
      "outputs": [
        {
          "output_type": "stream",
          "name": "stdout",
          "text": [
            "Classification Report for Unidirectional LSTM Model is : \n",
            "               precision    recall  f1-score   support\n",
            "\n",
            "           0       0.86      0.82      0.84      1250\n",
            "           1       0.83      0.87      0.85      1250\n",
            "\n",
            "    accuracy                           0.84      2500\n",
            "   macro avg       0.84      0.84      0.84      2500\n",
            "weighted avg       0.84      0.84      0.84      2500\n",
            "\n"
          ]
        }
      ]
    }
  ],
  "metadata": {
    "accelerator": "GPU",
    "colab": {
      "gpuType": "T4",
      "provenance": []
    },
    "kernelspec": {
      "display_name": "Python 3",
      "name": "python3"
    },
    "language_info": {
      "name": "python"
    }
  },
  "nbformat": 4,
  "nbformat_minor": 0
}