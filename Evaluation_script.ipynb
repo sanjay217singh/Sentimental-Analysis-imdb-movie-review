{
  "cells": [
    {
      "cell_type": "code",
      "execution_count": 1,
      "metadata": {
        "id": "oFt35qs8ECAx"
      },
      "outputs": [],
      "source": [
        "import numpy as np\n",
        "import pandas as pd\n",
        "from sklearn.model_selection import train_test_split\n",
        "import matplotlib.pyplot as plt\n",
        "import seaborn as sns"
      ]
    },
    {
      "cell_type": "code",
      "source": [
        "test_df = pd.read_csv('/content/test.csv')"
      ],
      "metadata": {
        "id": "rGl4ROel-4_k"
      },
      "execution_count": 2,
      "outputs": []
    },
    {
      "cell_type": "code",
      "execution_count": 3,
      "metadata": {
        "id": "Bq40nOKgiwFk"
      },
      "outputs": [],
      "source": [
        "column = 'label'"
      ]
    },
    {
      "cell_type": "code",
      "execution_count": 4,
      "metadata": {
        "colab": {
          "base_uri": "https://localhost:8080/"
        },
        "id": "s1FM5HaCi3Zh",
        "outputId": "dae745c2-af62-41f3-aa10-890ac7146d1e"
      },
      "outputs": [
        {
          "output_type": "execute_result",
          "data": {
            "text/plain": [
              "array([1, 0])"
            ]
          },
          "metadata": {},
          "execution_count": 4
        }
      ],
      "source": [
        "test_df[column].unique()"
      ]
    },
    {
      "cell_type": "code",
      "execution_count": 5,
      "metadata": {
        "colab": {
          "base_uri": "https://localhost:8080/",
          "height": 210
        },
        "id": "75wafV26i-xQ",
        "outputId": "039e5393-1d34-42d3-cb18-7437c16da96b"
      },
      "outputs": [
        {
          "output_type": "execute_result",
          "data": {
            "text/plain": [
              "sl_no     0\n",
              "text      0\n",
              "rating    0\n",
              "label     0\n",
              "dtype: int64"
            ],
            "text/html": [
              "<div>\n",
              "<style scoped>\n",
              "    .dataframe tbody tr th:only-of-type {\n",
              "        vertical-align: middle;\n",
              "    }\n",
              "\n",
              "    .dataframe tbody tr th {\n",
              "        vertical-align: top;\n",
              "    }\n",
              "\n",
              "    .dataframe thead th {\n",
              "        text-align: right;\n",
              "    }\n",
              "</style>\n",
              "<table border=\"1\" class=\"dataframe\">\n",
              "  <thead>\n",
              "    <tr style=\"text-align: right;\">\n",
              "      <th></th>\n",
              "      <th>0</th>\n",
              "    </tr>\n",
              "  </thead>\n",
              "  <tbody>\n",
              "    <tr>\n",
              "      <th>sl_no</th>\n",
              "      <td>0</td>\n",
              "    </tr>\n",
              "    <tr>\n",
              "      <th>text</th>\n",
              "      <td>0</td>\n",
              "    </tr>\n",
              "    <tr>\n",
              "      <th>rating</th>\n",
              "      <td>0</td>\n",
              "    </tr>\n",
              "    <tr>\n",
              "      <th>label</th>\n",
              "      <td>0</td>\n",
              "    </tr>\n",
              "  </tbody>\n",
              "</table>\n",
              "</div><br><label><b>dtype:</b> int64</label>"
            ]
          },
          "metadata": {},
          "execution_count": 5
        }
      ],
      "source": [
        "test_df.isnull().sum()"
      ]
    },
    {
      "cell_type": "markdown",
      "metadata": {
        "id": "Dy5vAWROltdt"
      },
      "source": [
        "Text Preprocessing"
      ]
    },
    {
      "cell_type": "code",
      "execution_count": 6,
      "metadata": {
        "id": "P-u0EQpbuVR9"
      },
      "outputs": [],
      "source": [
        "import nltk\n",
        "import re\n",
        "from tqdm import tqdm\n",
        "import string\n",
        "from collections import Counter\n",
        "from wordcloud import WordCloud\n",
        "from nltk.corpus import stopwords\n",
        "import torch\n",
        "import torch.nn as nn\n",
        "import torch.optim as optim"
      ]
    },
    {
      "cell_type": "code",
      "execution_count": 7,
      "metadata": {
        "colab": {
          "base_uri": "https://localhost:8080/"
        },
        "id": "7unS2QFpujZQ",
        "outputId": "734f3aac-3106-4b4a-e4b0-7f4fe018a376"
      },
      "outputs": [
        {
          "output_type": "stream",
          "name": "stderr",
          "text": [
            "[nltk_data] Downloading package stopwords to /root/nltk_data...\n",
            "[nltk_data]   Unzipping corpora/stopwords.zip.\n"
          ]
        },
        {
          "output_type": "execute_result",
          "data": {
            "text/plain": [
              "True"
            ]
          },
          "metadata": {},
          "execution_count": 7
        }
      ],
      "source": [
        "nltk.download('stopwords')"
      ]
    },
    {
      "cell_type": "code",
      "execution_count": 8,
      "metadata": {
        "id": "eqYoE9cZl0Dg"
      },
      "outputs": [],
      "source": [
        "STOPWORDS=set(stopwords.words('english'))"
      ]
    },
    {
      "cell_type": "code",
      "execution_count": 9,
      "metadata": {
        "id": "ZgYj4WY7urZy"
      },
      "outputs": [],
      "source": [
        "def remove_url_and_email(string):\n",
        "    url_pattern = re.compile(r'https?://\\S+|www\\.\\S+')\n",
        "\n",
        "    email_pattern = re.compile(r'\\b[A-Za-z0-9._%+-]+@[A-Za-z0-9.-]+\\.[A-Za-z]{2,}\\b')\n",
        "\n",
        "    string = url_pattern.sub(r'', string)\n",
        "    string = email_pattern.sub(r'', string)\n",
        "\n",
        "    return string\n",
        "\n",
        "def remove_html(text):\n",
        "    html_pattern = re.compile('<.*?>')\n",
        "    return html_pattern.sub(r'',text)\n",
        "\n",
        "\n",
        "def text_preprocess(df):\n",
        "  df['cleaned_text'] = df['text'].apply(lambda x: \" \".join([word.lower() for word in x.split()])) # Lowercase removed\n",
        "  df['cleaned_text'] = df['cleaned_text'].apply(lambda x: remove_url_and_email(x)) # URLs removed\n",
        "  df['cleaned_text'] = df['cleaned_text'].apply(lambda x: remove_html(x)) # HTML tags removed\n",
        "  df['cleaned_text'] = df['cleaned_text'].apply(lambda x: \" \".join([word for word in x.split() if word not in STOPWORDS])) # stopwords removed\n",
        "  df['cleaned_text'] = df['cleaned_text'].apply(lambda x: re.sub(r'[^\\w\\s]', ' ', x)) # punctuation removed\n",
        "  df['cleaned_text'] = df['cleaned_text'].apply(lambda x: re.sub(r'\\d+', '', x)) # digits removed\n",
        "  df['cleaned_text'] = df['cleaned_text'].apply(lambda x: re.sub(r'\\s+', ' ', x)) # extra whitespace\n",
        "  df['cleaned_text'] = df['cleaned_text'].apply(lambda x: \" \".join([word for word in x.split() if len(word) > 2])) # short words removed\n",
        "  df['cleaned_text'] = df['cleaned_text'].apply(lambda x: [word for word in x.split()]) # tokenized\n",
        "\n",
        "  return df"
      ]
    },
    {
      "cell_type": "code",
      "execution_count": 10,
      "metadata": {
        "id": "gl3vKwAPu2Pb"
      },
      "outputs": [],
      "source": [
        "new_test_df = text_preprocess(test_df)"
      ]
    },
    {
      "cell_type": "markdown",
      "metadata": {
        "id": "x_BpUhGNvU-9"
      },
      "source": [
        "TEXT VISULAIZATION"
      ]
    },
    {
      "cell_type": "code",
      "execution_count": 11,
      "metadata": {
        "id": "61eAeGcLwCbY"
      },
      "outputs": [],
      "source": [
        "new_test_df['length'] = new_test_df['cleaned_text'].apply(lambda x: len(x))"
      ]
    },
    {
      "cell_type": "code",
      "execution_count": 12,
      "metadata": {
        "colab": {
          "base_uri": "https://localhost:8080/"
        },
        "id": "6rovJZkGwKuC",
        "outputId": "424638bc-1d87-436d-83b3-a38d30494d5e"
      },
      "outputs": [
        {
          "output_type": "execute_result",
          "data": {
            "text/plain": [
              "1410"
            ]
          },
          "metadata": {},
          "execution_count": 12
        }
      ],
      "source": [
        "new_test_df['length'].max()"
      ]
    },
    {
      "cell_type": "code",
      "execution_count": 13,
      "metadata": {
        "colab": {
          "base_uri": "https://localhost:8080/"
        },
        "id": "ZlS1CNWzwPMd",
        "outputId": "8414d1e9-dc41-4d72-c087-03a5f5c0b0ce"
      },
      "outputs": [
        {
          "output_type": "execute_result",
          "data": {
            "text/plain": [
              "4"
            ]
          },
          "metadata": {},
          "execution_count": 13
        }
      ],
      "source": [
        "new_test_df['length'].min()"
      ]
    },
    {
      "cell_type": "code",
      "execution_count": 14,
      "metadata": {
        "colab": {
          "base_uri": "https://localhost:8080/",
          "height": 472
        },
        "id": "l9aYN4rUdxxd",
        "outputId": "6343473e-bb67-48bb-94ab-e9278d1fbd77"
      },
      "outputs": [
        {
          "output_type": "display_data",
          "data": {
            "text/plain": [
              "<Figure size 640x480 with 1 Axes>"
            ],
            "image/png": "[encoded data removed]"
          },
          "metadata": {}
        }
      ],
      "source": [
        "sns.histplot(new_test_df['length'],kde=True,color='red',bins=30)\n",
        "plt.title('Length of testing data Distribution')\n",
        "plt.show()"
      ]
    },
    {
      "cell_type": "code",
      "execution_count": 15,
      "metadata": {
        "colab": {
          "base_uri": "https://localhost:8080/"
        },
        "id": "tjVpmfo4eC06",
        "outputId": "c04d0da7-7725-4f34-edbd-b4e358123b3d"
      },
      "outputs": [
        {
          "output_type": "execute_result",
          "data": {
            "text/plain": [
              "(25000, 6)"
            ]
          },
          "metadata": {},
          "execution_count": 15
        }
      ],
      "source": [
        "new_test_df.shape"
      ]
    },
    {
      "cell_type": "markdown",
      "metadata": {
        "id": "8vBEWpwWeoCw"
      },
      "source": [
        "VOCAB"
      ]
    },
    {
      "cell_type": "code",
      "execution_count": 16,
      "metadata": {
        "id": "JGSXj8Dkep2L"
      },
      "outputs": [],
      "source": [
        "vocab = Counter()\n",
        "for text in new_test_df['cleaned_text']:\n",
        "    vocab.update(text)"
      ]
    },
    {
      "cell_type": "code",
      "execution_count": 17,
      "metadata": {
        "id": "fS8YDcFCeyaR"
      },
      "outputs": [],
      "source": [
        "vocab_sorted = vocab.most_common()"
      ]
    },
    {
      "cell_type": "code",
      "execution_count": 18,
      "metadata": {
        "id": "NYm3fWi_e2VX"
      },
      "outputs": [],
      "source": [
        "vocab_sorted = ['<pad>'] + [word for word, _ in vocab_sorted]"
      ]
    },
    {
      "cell_type": "code",
      "execution_count": 19,
      "metadata": {
        "colab": {
          "base_uri": "https://localhost:8080/"
        },
        "id": "qesiQT0Ke8IJ",
        "outputId": "5c130eff-2ff8-4be5-dff7-5da583ef934d"
      },
      "outputs": [
        {
          "output_type": "execute_result",
          "data": {
            "text/plain": [
              "['<pad>',\n",
              " 'movie',\n",
              " 'film',\n",
              " 'one',\n",
              " 'like',\n",
              " 'good',\n",
              " 'the',\n",
              " 'time',\n",
              " 'even',\n",
              " 'would']"
            ]
          },
          "metadata": {},
          "execution_count": 19
        }
      ],
      "source": [
        "vocab_sorted[:10]"
      ]
    },
    {
      "cell_type": "code",
      "execution_count": 20,
      "metadata": {
        "colab": {
          "base_uri": "https://localhost:8080/"
        },
        "id": "611m9_8WfJNu",
        "outputId": "d7c010db-f68d-4b39-c61e-3801a9639acb"
      },
      "outputs": [
        {
          "output_type": "stream",
          "name": "stdout",
          "text": [
            "74025\n"
          ]
        }
      ],
      "source": [
        "vocab_size = len(vocab_sorted)\n",
        "print(vocab_size)"
      ]
    },
    {
      "cell_type": "code",
      "execution_count": 21,
      "metadata": {
        "id": "Z4RR9owwfOSs"
      },
      "outputs": [],
      "source": [
        "word_to_index = {word: index for index, word in enumerate(vocab_sorted)}\n",
        "index_to_word = {index: word for index, word in enumerate(vocab_sorted)}"
      ]
    },
    {
      "cell_type": "markdown",
      "metadata": {
        "id": "-LAKEHwIiZu-"
      },
      "source": [
        "PADDING AND TRUNCATION"
      ]
    },
    {
      "cell_type": "code",
      "execution_count": 22,
      "metadata": {
        "id": "N7KXPF_MfTR7"
      },
      "outputs": [],
      "source": [
        "def padding_truncate(text_list,max_sequence):\n",
        "\n",
        "    if len(text_list) > max_sequence:\n",
        "        # Truncate the list if it's longer than max_sequence\n",
        "        return text_list[:max_sequence]\n",
        "    else:\n",
        "        # Pad the list with the padding_value if it's shorter than max_sequence\n",
        "        return text_list + ['<pad>'] * (max_sequence - len(text_list))"
      ]
    },
    {
      "cell_type": "code",
      "execution_count": 23,
      "metadata": {
        "id": "MAc9EcdjfWQX"
      },
      "outputs": [],
      "source": [
        "new_test_df['cleaned_text'] = new_test_df['cleaned_text'].apply(lambda x: padding_truncate(x,400))"
      ]
    },
    {
      "cell_type": "code",
      "execution_count": 24,
      "metadata": {
        "id": "9vLn85HJfjqn"
      },
      "outputs": [],
      "source": [
        "new_test_df['text_seq'] = new_test_df['cleaned_text'].apply(lambda x: [word_to_index[word] for word in x])"
      ]
    },
    {
      "cell_type": "code",
      "execution_count": 25,
      "metadata": {
        "id": "o4nm9Fc1fxnV"
      },
      "outputs": [],
      "source": [
        "test_data = new_test_df[['text_seq', 'label']]"
      ]
    },
    {
      "cell_type": "markdown",
      "metadata": {
        "id": "uAO9PZvsiL1L"
      },
      "source": [
        "CREATE DATASET TENSOR"
      ]
    },
    {
      "cell_type": "code",
      "execution_count": 26,
      "metadata": {
        "id": "ExN5GSDWhAEq"
      },
      "outputs": [],
      "source": [
        "import torch\n",
        "import torch.nn as nn\n",
        "import torch.optim as optim\n",
        "from torch.utils.data import Dataset, DataLoader\n",
        "from sklearn.model_selection import train_test_split\n",
        "from sklearn.metrics import accuracy_score, classification_report, confusion_matrix\n",
        "import warnings\n",
        "warnings.filterwarnings('ignore')"
      ]
    },
    {
      "cell_type": "code",
      "execution_count": 27,
      "metadata": {
        "id": "qMnvW9Hsf4RQ"
      },
      "outputs": [],
      "source": [
        "class SentimentDataset(Dataset):\n",
        "    def __init__(self, data):\n",
        "        self.data = data\n",
        "\n",
        "    def __len__(self):\n",
        "        return len(self.data)\n",
        "\n",
        "    def __getitem__(self, idx):\n",
        "        text_seq = self.data.iloc[idx]['text_seq']\n",
        "        label = self.data.iloc[idx]['label']\n",
        "        return torch.tensor(text_seq), torch.tensor(label)"
      ]
    },
    {
      "cell_type": "code",
      "execution_count": 28,
      "metadata": {
        "id": "N6Bh-orUgSZN"
      },
      "outputs": [],
      "source": [
        "test_data_set = SentimentDataset(test_data)"
      ]
    },
    {
      "cell_type": "code",
      "execution_count": 29,
      "metadata": {
        "id": "EsAm_2fKgsj8"
      },
      "outputs": [],
      "source": [
        "test_dataloader = DataLoader(test_data_set, batch_size=32, shuffle=False)"
      ]
    },
    {
      "cell_type": "code",
      "execution_count": 30,
      "metadata": {
        "colab": {
          "base_uri": "https://localhost:8080/"
        },
        "id": "RDEVYj1ChLg2",
        "outputId": "e4764de1-feb1-471a-995c-db55a3383b11"
      },
      "outputs": [
        {
          "output_type": "stream",
          "name": "stdout",
          "text": [
            "cuda\n"
          ]
        }
      ],
      "source": [
        "device = torch.device(\"cuda\" if torch.cuda.is_available() else \"cpu\")\n",
        "print(device)"
      ]
    },
    {
      "cell_type": "code",
      "execution_count": 31,
      "metadata": {
        "id": "dl-K0eJFh4nT"
      },
      "outputs": [],
      "source": [
        "class lstm_model(nn.Module):\n",
        "    def __init__(self, vocab_size, embedding_dim, hidden_dim, output_dim, n_layers, bidirectional, dropout):\n",
        "        super().__init__()\n",
        "        self.embedding = nn.Embedding(vocab_size, embedding_dim)\n",
        "        self.hidden_dim = hidden_dim\n",
        "        self.n_layers = n_layers\n",
        "        self.bidirectional = bidirectional\n",
        "        self.lstm = nn.LSTM(\n",
        "            embedding_dim,\n",
        "            hidden_dim,\n",
        "            num_layers=n_layers,\n",
        "            bidirectional=bidirectional,\n",
        "            batch_first=True,\n",
        "        )\n",
        "        self.dropout = nn.Dropout(dropout)  # Dropout layer\n",
        "        self.fc = nn.Linear(hidden_dim * 2 if bidirectional else hidden_dim, output_dim)\n",
        "        self.sigmoid = nn.Sigmoid()\n",
        "\n",
        "    def init_hidden(self, batch_size):\n",
        "        factor = 2 if self.bidirectional else 1\n",
        "        h0 = torch.zeros(self.n_layers * factor, batch_size, self.hidden_dim).to(device)\n",
        "        c0 = torch.zeros(self.n_layers * factor, batch_size, self.hidden_dim).to(device)\n",
        "        hidden = (h0, c0)\n",
        "        return hidden\n",
        "\n",
        "    def forward(self, x, hidden):\n",
        "        batch_size = x.size(0)\n",
        "        embedded = self.embedding(x)  # Embedding layer\n",
        "        lstm_out, hidden = self.lstm(embedded, hidden)  # LSTM layer\n",
        "        lstm_out = self.dropout(lstm_out)\n",
        "        lstm_out = lstm_out.contiguous().view(-1, self.hidden_dim * 2 if self.bidirectional else self.hidden_dim)\n",
        "        out = self.fc(lstm_out)\n",
        "        sig_out = self.sigmoid(out)\n",
        "\n",
        "        # Reshape for final output and select the output of last time-step\n",
        "        sig_out = sig_out.view(batch_size, -1)\n",
        "        sig_out = sig_out[:, -1]  # Getting the last prediction\n",
        "\n",
        "        return sig_out, hidden"
      ]
    },
    {
      "cell_type": "code",
      "execution_count": 32,
      "metadata": {
        "id": "H_gSzSLqh6tp"
      },
      "outputs": [],
      "source": [
        "def acc(pred, label):\n",
        "    pred = torch.round(pred.squeeze())\n",
        "    return torch.sum(pred == label.squeeze()).item()"
      ]
    },
    {
      "cell_type": "code",
      "execution_count": 33,
      "metadata": {
        "id": "7iw6VEODh_8e"
      },
      "outputs": [],
      "source": [
        "def binary_accuracy(preds, y):\n",
        "    rounded_preds = torch.round(preds) # Round prediction\n",
        "\n",
        "    correct = (rounded_preds == y).float()\n",
        "    acc = correct.sum() / len(correct)\n",
        "    return acc"
      ]
    },
    {
      "cell_type": "markdown",
      "metadata": {
        "id": "Pj2dJH1Pijcp"
      },
      "source": [
        "UNIDIRECTIONAL LSTM"
      ]
    },
    {
      "cell_type": "code",
      "execution_count": 34,
      "metadata": {
        "colab": {
          "base_uri": "https://localhost:8080/"
        },
        "id": "vtwCeIm9ipAc",
        "outputId": "da5c3c28-98e4-4f6b-b098-722560da9543"
      },
      "outputs": [
        {
          "output_type": "stream",
          "name": "stdout",
          "text": [
            "Model saved successfully!\n",
            "lstm_model(\n",
            "  (embedding): Embedding(74025, 128)\n",
            "  (lstm): LSTM(128, 256, num_layers=2, batch_first=True)\n",
            "  (dropout): Dropout(p=0.5, inplace=False)\n",
            "  (fc): Linear(in_features=256, out_features=1, bias=True)\n",
            "  (sigmoid): Sigmoid()\n",
            ")\n"
          ]
        }
      ],
      "source": [
        "embedding_dim = 128\n",
        "hidden_dim = 256\n",
        "output_dim = 1\n",
        "n_layers = 2\n",
        "bidirectional = False\n",
        "dropout = 0.5\n",
        "\n",
        "model = lstm_model(vocab_size, embedding_dim, hidden_dim, output_dim, n_layers, bidirectional, dropout)\n",
        "\n",
        "torch.save(model.state_dict(), \"Model.pth\")\n",
        "print(\"Model saved successfully!\")\n",
        "\n",
        "model = model.to(device)\n",
        "print(model)"
      ]
    },
    {
      "cell_type": "code",
      "source": [
        "model = lstm_model(vocab_size, embedding_dim, hidden_dim, output_dim, n_layers, bidirectional, dropout)\n",
        "\n",
        "model.load_state_dict(torch.load('/content/Model.pth', map_location=device))\n",
        "\n",
        "model = model.to(device)\n",
        "print(model)\n"
      ],
      "metadata": {
        "colab": {
          "base_uri": "https://localhost:8080/"
        },
        "id": "mhHiT0WoDlr0",
        "outputId": "08fa7f70-bf2f-4cf7-c1a9-7f50f78d5de8"
      },
      "execution_count": 35,
      "outputs": [
        {
          "output_type": "stream",
          "name": "stdout",
          "text": [
            "lstm_model(\n",
            "  (embedding): Embedding(74025, 128)\n",
            "  (lstm): LSTM(128, 256, num_layers=2, batch_first=True)\n",
            "  (dropout): Dropout(p=0.5, inplace=False)\n",
            "  (fc): Linear(in_features=256, out_features=1, bias=True)\n",
            "  (sigmoid): Sigmoid()\n",
            ")\n"
          ]
        }
      ]
    },
    {
      "cell_type": "code",
      "execution_count": 36,
      "metadata": {
        "id": "Jon6bZQAiuZz"
      },
      "outputs": [],
      "source": [
        "optimizer = optim.Adam(model.parameters(), lr=0.001)\n",
        "criterion = nn.BCELoss()"
      ]
    },
    {
      "cell_type": "code",
      "source": [
        "model.eval()\n",
        "test_loss = 0.0\n",
        "test_acc = 0.0\n",
        "with torch.no_grad():\n",
        "    for text_seq, label in test_dataloader:\n",
        "        text_seq, label = text_seq.to(device), label.to(device)\n",
        "        hidden = model.init_hidden(text_seq.size(0))\n",
        "        output, _ = model(text_seq, hidden)\n",
        "        loss = criterion(output, label.float())\n",
        "        test_loss += loss.item()\n",
        "        test_acc += binary_accuracy(output, label)\n",
        "\n",
        "test_loss /= len(test_dataloader)\n",
        "test_acc /= len(test_dataloader)\n",
        "print(f'Test loss is {test_loss}')\n",
        "print(f'Test accuracy is {test_acc}')"
      ],
      "metadata": {
        "colab": {
          "base_uri": "https://localhost:8080/"
        },
        "id": "SfoUQYT_G4T-",
        "outputId": "68975af9-853b-4d00-c09a-5520d37955ef"
      },
      "execution_count": 37,
      "outputs": [
        {
          "output_type": "stream",
          "name": "stdout",
          "text": [
            "Test loss is 0.6932103092713124\n",
            "Test accuracy is 0.49624359607696533\n"
          ]
        }
      ]
    },
    {
      "cell_type": "code",
      "source": [
        "model.eval()\n",
        "all_preds = []\n",
        "all_labels = []\n",
        "\n",
        "with torch.no_grad():\n",
        "    for text_seq, label in test_dataloader:\n",
        "        text_seq, label = text_seq.to(device), label.to(device)\n",
        "        hidden = model.init_hidden(text_seq.size(0))\n",
        "\n",
        "        output, _ = model(text_seq, hidden)\n",
        "\n",
        "        preds = (output > 0.5).float()\n",
        "\n",
        "        all_preds.extend(preds.cpu().numpy())\n",
        "        all_labels.extend(label.cpu().numpy())\n",
        "\n",
        "all_preds = np.array(all_preds).flatten()\n",
        "all_labels = np.array(all_labels).flatten()\n",
        "\n",
        "cm = confusion_matrix(all_labels, all_preds)"
      ],
      "metadata": {
        "id": "bxizeedsG-Zp"
      },
      "execution_count": 38,
      "outputs": []
    },
    {
      "cell_type": "code",
      "source": [
        "sns.heatmap(cm,fmt='d',cmap='Reds',annot=True)\n",
        "plt.xlabel('Predictions')\n",
        "plt.ylabel('True Values')\n",
        "plt.title('LSTM Model Confusion Matrix')\n",
        "plt.show()"
      ],
      "metadata": {
        "colab": {
          "base_uri": "https://localhost:8080/",
          "height": 472
        },
        "id": "XJ1U7y8qHCV7",
        "outputId": "20219451-d37f-44b2-8da2-99d2392897f5"
      },
      "execution_count": 39,
      "outputs": [
        {
          "output_type": "display_data",
          "data": {
            "text/plain": [
              "<Figure size 640x480 with 2 Axes>"
            ],
            "image/png": "[encoded data removed]"
          },
          "metadata": {}
        }
      ]
    },
    {
      "cell_type": "code",
      "source": [
        "UniLSTM_ClassificationReport = classification_report(all_labels,all_preds)\n",
        "print('Classification Report of LSTM Model : \\n', UniLSTM_ClassificationReport)"
      ],
      "metadata": {
        "colab": {
          "base_uri": "https://localhost:8080/"
        },
        "id": "OGCodcWxHHKf",
        "outputId": "eb5b9aaa-d9fa-465e-8041-50e7889c4a03"
      },
      "execution_count": 40,
      "outputs": [
        {
          "output_type": "stream",
          "name": "stdout",
          "text": [
            "Classification Report of LSTM Model : \n",
            "               precision    recall  f1-score   support\n",
            "\n",
            "           0       0.43      0.02      0.04     12500\n",
            "           1       0.50      0.97      0.66     12500\n",
            "\n",
            "    accuracy                           0.50     25000\n",
            "   macro avg       0.47      0.50      0.35     25000\n",
            "weighted avg       0.47      0.50      0.35     25000\n",
            "\n"
          ]
        }
      ]
    }
  ],
  "metadata": {
    "accelerator": "GPU",
    "colab": {
      "gpuType": "T4",
      "provenance": []
    },
    "kernelspec": {
      "display_name": "Python 3",
      "name": "python3"
    },
    "language_info": {
      "name": "python"
    }
  },
  "nbformat": 4,
  "nbformat_minor": 0
}